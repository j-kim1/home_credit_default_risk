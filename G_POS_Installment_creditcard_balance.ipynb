{
 "cells": [
  {
   "cell_type": "markdown",
   "id": "dramatic-fairy",
   "metadata": {},
   "source": [
    "### POS_CASH balance, installments_payments, credit_card_balance data processing, EDA, MODEL"
   ]
  },
  {
   "cell_type": "code",
   "execution_count": 1,
   "id": "directed-specific",
   "metadata": {},
   "outputs": [],
   "source": [
    "import pandas as pd\n",
    "import numpy as np\n",
    "import matplotlib.pyplot as plt\n",
    "import seaborn as sns\n",
    "import os"
   ]
  },
  {
   "cell_type": "markdown",
   "id": "committed-wagon",
   "metadata": {},
   "source": [
    "### BALANCE dataset loading, column type change for memory size reduction"
   ]
  },
  {
   "cell_type": "code",
   "execution_count": 9,
   "id": "infinite-competition",
   "metadata": {},
   "outputs": [],
   "source": [
    "def get_balance_data():\n",
    "    pos_dtype = {\n",
    "        'SK_ID_PREV':np.uint32, 'SK_ID_CURR':np.uint32, 'MONTHS_BALANCE':np.int32, 'SK_DPD':np.int32,\n",
    "        'SK_DPD_DEF':np.int32, 'CNT_INSTALMENT':np.float32, 'CNT_INSTALMENT_FUTURE':np.float32        \n",
    "    }\n",
    "    install_dtype = {\n",
    "        'SK_ID_PREV':np.uint32, 'SK_ID_CURR':np.uint32, 'NUM_INSTALMENT_NUMBER':np.int32, 'NUM_INSTALMENT_VERSION':np.float32,\n",
    "        'DAYS_INSTALMENT':np.float32, 'DAYS_ENTRY_PAYMENT':np.float32, 'AMT_INSTALMENT':np.float32, 'AMT_PAYMENT':np.float32\n",
    "    }\n",
    "    card_dtype = {\n",
    "        'SK_ID_PREV':np.uint32, 'SK_ID_CURR':np.uint32, 'MONTHS_BALANCE':np.int16,\n",
    "        'AMT_CREDIT_LIMIT_ACTUAL':np.int32, 'CNT_DRAWINGS_CURRENT':np.int32, 'SK_DPD':np.int32,'SK_DPD_DEF':np.int32,\n",
    "        'AMT_BALANCE':np.float32, 'AMT_DRAWINGS_ATM_CURRENT':np.float32, 'AMT_DRAWINGS_CURRENT':np.float32,\n",
    "        'AMT_DRAWINGS_OTHER_CURRENT':np.float32, 'AMT_DRAWINGS_POS_CURRENT':np.float32, 'AMT_INST_MIN_REGULARITY':np.float32,\n",
    "        'AMT_PAYMENT_CURRENT':np.float32, 'AMT_PAYMENT_TOTAL_CURRENT':np.float32, 'AMT_RECEIVABLE_PRINCIPAL':np.float32,\n",
    "        'AMT_RECIVABLE':np.float32, 'AMT_TOTAL_RECEIVABLE':np.float32, 'CNT_DRAWINGS_ATM_CURRENT':np.float32,\n",
    "        'CNT_DRAWINGS_OTHER_CURRENT':np.float32, 'CNT_DRAWINGS_POS_CURRENT':np.float32, 'CNT_INSTALMENT_MATURE_CUM':np.float32\n",
    "    }\n",
    "    data_path = 'D:\\workspace1\\Kaggle_Advanced_ML\\data'\n",
    "    \n",
    "    pos_bal = pd.read_csv(os.path.join(data_path, 'POS_CASH_balance.csv'), dtype=pos_dtype)\n",
    "    install = pd.read_csv(os.path.join(data_path, 'installments_payments.csv'), dtype=install_dtype)\n",
    "    card_bal = pd.read_csv(os.path.join(data_path, 'credit_card_balance.csv'), dtype=card_dtype)\n",
    "    \n",
    "    return pos_bal, install, card_bal\n",
    "\n",
    "pos_bal, install, card_bal = get_balance_data()"
   ]
  },
  {
   "cell_type": "code",
   "execution_count": 7,
   "id": "insured-albania",
   "metadata": {},
   "outputs": [
    {
     "name": "stdout",
     "output_type": "stream",
     "text": [
      "<class 'pandas.core.frame.DataFrame'>\n",
      "RangeIndex: 10001358 entries, 0 to 10001357\n",
      "Data columns (total 8 columns):\n",
      " #   Column                 Dtype  \n",
      "---  ------                 -----  \n",
      " 0   SK_ID_PREV             int64  \n",
      " 1   SK_ID_CURR             int64  \n",
      " 2   MONTHS_BALANCE         int64  \n",
      " 3   CNT_INSTALMENT         float64\n",
      " 4   CNT_INSTALMENT_FUTURE  float64\n",
      " 5   NAME_CONTRACT_STATUS   object \n",
      " 6   SK_DPD                 int64  \n",
      " 7   SK_DPD_DEF             int64  \n",
      "dtypes: float64(2), int64(5), object(1)\n",
      "memory usage: 610.4+ MB\n"
     ]
    }
   ],
   "source": [
    "pos_bal_temp = pd.read_csv(os.path.join('D:\\workspace1\\Kaggle_Advanced_ML\\data', 'POS_CASH_balance.csv'))\n",
    "pos_bal_temp.info()"
   ]
  },
  {
   "cell_type": "code",
   "execution_count": 8,
   "id": "greater-princess",
   "metadata": {},
   "outputs": [
    {
     "name": "stdout",
     "output_type": "stream",
     "text": [
      "<class 'pandas.core.frame.DataFrame'>\n",
      "RangeIndex: 10001358 entries, 0 to 10001357\n",
      "Data columns (total 8 columns):\n",
      " #   Column                 Dtype  \n",
      "---  ------                 -----  \n",
      " 0   SK_ID_PREV             uint32 \n",
      " 1   SK_ID_CURR             uint32 \n",
      " 2   MONTHS_BALANCE         int32  \n",
      " 3   CNT_INSTALMENT         float32\n",
      " 4   CNT_INSTALMENT_FUTURE  float32\n",
      " 5   NAME_CONTRACT_STATUS   object \n",
      " 6   SK_DPD                 int32  \n",
      " 7   SK_DPD_DEF             int32  \n",
      "dtypes: float32(2), int32(3), object(1), uint32(2)\n",
      "memory usage: 343.4+ MB\n"
     ]
    }
   ],
   "source": [
    "pos_dtype = {\n",
    "        'SK_ID_PREV':np.uint32, 'SK_ID_CURR':np.uint32, 'MONTHS_BALANCE':np.int32, 'SK_DPD':np.int32,\n",
    "        'SK_DPD_DEF':np.int32, 'CNT_INSTALMENT':np.float32, 'CNT_INSTALMENT_FUTURE':np.float32        \n",
    "    }\n",
    "pos_bal_temp1 = pd.read_csv(os.path.join('D:\\workspace1\\Kaggle_Advanced_ML\\data', 'POS_CASH_balance.csv'), dtype=pos_dtype)\n",
    "pos_bal_temp1.info()"
   ]
  },
  {
   "cell_type": "code",
   "execution_count": 9,
   "id": "changing-advice",
   "metadata": {},
   "outputs": [
    {
     "data": {
      "text/plain": [
       "45"
      ]
     },
     "execution_count": 9,
     "metadata": {},
     "output_type": "execute_result"
    }
   ],
   "source": [
    "import gc\n",
    "del pos_bal_temp\n",
    "del pos_bal_temp1\n",
    "gc.collect()"
   ]
  },
  {
   "cell_type": "code",
   "execution_count": 133,
   "id": "commercial-threat",
   "metadata": {},
   "outputs": [],
   "source": [
    "data_path = 'D:\\workspace1\\Kaggle_Advanced_ML\\data'\n",
    "app_train = pd.read_csv(os.path.join(data_path, 'application_train.csv'))\n",
    "app_test = pd.read_csv(os.path.join(data_path, 'application_test.csv'))\n",
    "apps = pd.concat([app_train, app_test])"
   ]
  },
  {
   "cell_type": "code",
   "execution_count": 134,
   "id": "cardiovascular-clark",
   "metadata": {},
   "outputs": [
    {
     "data": {
      "text/plain": [
       "((307511, 122), (48744, 121), (356255, 122))"
      ]
     },
     "execution_count": 134,
     "metadata": {},
     "output_type": "execute_result"
    }
   ],
   "source": [
    "app_train.shape, app_test.shape, apps.shape"
   ]
  },
  {
   "cell_type": "code",
   "execution_count": 15,
   "id": "alternate-blame",
   "metadata": {},
   "outputs": [
    {
     "data": {
      "text/html": [
       "<div>\n",
       "<style scoped>\n",
       "    .dataframe tbody tr th:only-of-type {\n",
       "        vertical-align: middle;\n",
       "    }\n",
       "\n",
       "    .dataframe tbody tr th {\n",
       "        vertical-align: top;\n",
       "    }\n",
       "\n",
       "    .dataframe thead th {\n",
       "        text-align: right;\n",
       "    }\n",
       "</style>\n",
       "<table border=\"1\" class=\"dataframe\">\n",
       "  <thead>\n",
       "    <tr style=\"text-align: right;\">\n",
       "      <th></th>\n",
       "      <th>SK_ID_PREV</th>\n",
       "      <th>SK_ID_CURR</th>\n",
       "      <th>MONTHS_BALANCE</th>\n",
       "      <th>CNT_INSTALMENT</th>\n",
       "      <th>CNT_INSTALMENT_FUTURE</th>\n",
       "      <th>NAME_CONTRACT_STATUS</th>\n",
       "      <th>SK_DPD</th>\n",
       "      <th>SK_DPD_DEF</th>\n",
       "    </tr>\n",
       "  </thead>\n",
       "  <tbody>\n",
       "    <tr>\n",
       "      <th>0</th>\n",
       "      <td>1803195</td>\n",
       "      <td>182943</td>\n",
       "      <td>-31</td>\n",
       "      <td>48.0</td>\n",
       "      <td>45.0</td>\n",
       "      <td>Active</td>\n",
       "      <td>0</td>\n",
       "      <td>0</td>\n",
       "    </tr>\n",
       "    <tr>\n",
       "      <th>1</th>\n",
       "      <td>1715348</td>\n",
       "      <td>367990</td>\n",
       "      <td>-33</td>\n",
       "      <td>36.0</td>\n",
       "      <td>35.0</td>\n",
       "      <td>Active</td>\n",
       "      <td>0</td>\n",
       "      <td>0</td>\n",
       "    </tr>\n",
       "    <tr>\n",
       "      <th>2</th>\n",
       "      <td>1784872</td>\n",
       "      <td>397406</td>\n",
       "      <td>-32</td>\n",
       "      <td>12.0</td>\n",
       "      <td>9.0</td>\n",
       "      <td>Active</td>\n",
       "      <td>0</td>\n",
       "      <td>0</td>\n",
       "    </tr>\n",
       "    <tr>\n",
       "      <th>3</th>\n",
       "      <td>1903291</td>\n",
       "      <td>269225</td>\n",
       "      <td>-35</td>\n",
       "      <td>48.0</td>\n",
       "      <td>42.0</td>\n",
       "      <td>Active</td>\n",
       "      <td>0</td>\n",
       "      <td>0</td>\n",
       "    </tr>\n",
       "    <tr>\n",
       "      <th>4</th>\n",
       "      <td>2341044</td>\n",
       "      <td>334279</td>\n",
       "      <td>-35</td>\n",
       "      <td>36.0</td>\n",
       "      <td>35.0</td>\n",
       "      <td>Active</td>\n",
       "      <td>0</td>\n",
       "      <td>0</td>\n",
       "    </tr>\n",
       "  </tbody>\n",
       "</table>\n",
       "</div>"
      ],
      "text/plain": [
       "   SK_ID_PREV  SK_ID_CURR  MONTHS_BALANCE  CNT_INSTALMENT  \\\n",
       "0     1803195      182943             -31            48.0   \n",
       "1     1715348      367990             -33            36.0   \n",
       "2     1784872      397406             -32            12.0   \n",
       "3     1903291      269225             -35            48.0   \n",
       "4     2341044      334279             -35            36.0   \n",
       "\n",
       "   CNT_INSTALMENT_FUTURE NAME_CONTRACT_STATUS  SK_DPD  SK_DPD_DEF  \n",
       "0                   45.0               Active       0           0  \n",
       "1                   35.0               Active       0           0  \n",
       "2                    9.0               Active       0           0  \n",
       "3                   42.0               Active       0           0  \n",
       "4                   35.0               Active       0           0  "
      ]
     },
     "execution_count": 15,
     "metadata": {},
     "output_type": "execute_result"
    }
   ],
   "source": [
    "pos_bal.head()"
   ]
  },
  {
   "cell_type": "markdown",
   "id": "binary-belfast",
   "metadata": {},
   "source": [
    "- Count based on SK_ID_CURR \n",
    "- Count based on SK_ID_PREV\n",
    "- Unique SK_ID_PREV avg count based on SK_ID_CURR\n",
    "- MONTHS_BALANCE, DAYS_INSTALMENT distribution"
   ]
  },
  {
   "cell_type": "code",
   "execution_count": 17,
   "id": "fourth-chicken",
   "metadata": {},
   "outputs": [
    {
     "data": {
      "text/plain": [
       "29.655444593360453"
      ]
     },
     "execution_count": 17,
     "metadata": {},
     "output_type": "execute_result"
    }
   ],
   "source": [
    "pos_bal.groupby('SK_ID_CURR')['SK_ID_CURR'].count().mean()"
   ]
  },
  {
   "cell_type": "code",
   "execution_count": 18,
   "id": "appreciated-ivory",
   "metadata": {},
   "outputs": [
    {
     "data": {
      "text/plain": [
       "10.68150268336315"
      ]
     },
     "execution_count": 18,
     "metadata": {},
     "output_type": "execute_result"
    }
   ],
   "source": [
    "pos_bal.groupby('SK_ID_PREV')['SK_ID_PREV'].count().mean()"
   ]
  },
  {
   "cell_type": "code",
   "execution_count": 19,
   "id": "interested-worker",
   "metadata": {},
   "outputs": [
    {
     "data": {
      "text/plain": [
       "2.7763363894061412"
      ]
     },
     "execution_count": 19,
     "metadata": {},
     "output_type": "execute_result"
    }
   ],
   "source": [
    "pos_bal.groupby('SK_ID_CURR')['SK_ID_PREV'].nunique().mean()"
   ]
  },
  {
   "cell_type": "code",
   "execution_count": 20,
   "id": "transparent-international",
   "metadata": {},
   "outputs": [
    {
     "data": {
      "text/plain": [
       "-10    216441\n",
       "-11    216023\n",
       "-9     215558\n",
       "-12    214716\n",
       "-8     214149\n",
       "-13    210950\n",
       "-7     210229\n",
       "-14    208352\n",
       "-6     206849\n",
       "-15    204935\n",
       "-5     200726\n",
       "-16    200432\n",
       "-17    195713\n",
       "-4     193147\n",
       "-18    190385\n",
       "-19    184302\n",
       "-3     183589\n",
       "-20    179741\n",
       "-21    173543\n",
       "-2     169529\n",
       "-22    167834\n",
       "-23    162220\n",
       "-24    155855\n",
       "-25    148399\n",
       "-26    142602\n",
       "-27    136913\n",
       "-28    131861\n",
       "-29    127147\n",
       "-30    122386\n",
       "-31    117961\n",
       "Name: MONTHS_BALANCE, dtype: int64"
      ]
     },
     "execution_count": 20,
     "metadata": {},
     "output_type": "execute_result"
    }
   ],
   "source": [
    "pos_bal['MONTHS_BALANCE'].value_counts().head(30)"
   ]
  },
  {
   "cell_type": "code",
   "execution_count": 22,
   "id": "chicken-dealing",
   "metadata": {},
   "outputs": [
    {
     "data": {
      "text/plain": [
       "<AxesSubplot:>"
      ]
     },
     "execution_count": 22,
     "metadata": {},
     "output_type": "execute_result"
    },
    {
     "data": {
      "image/png": "[encoded data removed]",
      "text/plain": [
       "<Figure size 432x288 with 1 Axes>"
      ]
     },
     "metadata": {
      "needs_background": "light"
     },
     "output_type": "display_data"
    }
   ],
   "source": [
    "pos_bal['MONTHS_BALANCE'].hist(bins=100)"
   ]
  },
  {
   "cell_type": "code",
   "execution_count": 23,
   "id": "chief-potato",
   "metadata": {},
   "outputs": [
    {
     "data": {
      "text/plain": [
       "<AxesSubplot:>"
      ]
     },
     "execution_count": 23,
     "metadata": {},
     "output_type": "execute_result"
    },
    {
     "data": {
      "image/png": "[encoded data removed]",
      "text/plain": [
       "<Figure size 432x288 with 1 Axes>"
      ]
     },
     "metadata": {
      "needs_background": "light"
     },
     "output_type": "display_data"
    }
   ],
   "source": [
    "card_bal['MONTHS_BALANCE'].hist(bins=100)"
   ]
  },
  {
   "cell_type": "code",
   "execution_count": 25,
   "id": "material-slide",
   "metadata": {},
   "outputs": [
    {
     "data": {
      "text/plain": [
       "<AxesSubplot:xlabel='MONTHS_BALANCE'>"
      ]
     },
     "execution_count": 25,
     "metadata": {},
     "output_type": "execute_result"
    },
    {
     "data": {
      "image/png": "[encoded data removed]",
      "text/plain": [
       "<Figure size 432x288 with 1 Axes>"
      ]
     },
     "metadata": {
      "needs_background": "light"
     },
     "output_type": "display_data"
    }
   ],
   "source": [
    "sns.boxplot(x=card_bal['MONTHS_BALANCE'])"
   ]
  },
  {
   "cell_type": "code",
   "execution_count": 26,
   "id": "returning-python",
   "metadata": {},
   "outputs": [
    {
     "data": {
      "text/plain": [
       "<AxesSubplot:>"
      ]
     },
     "execution_count": 26,
     "metadata": {},
     "output_type": "execute_result"
    },
    {
     "data": {
      "image/png": "[encoded data removed]",
      "text/plain": [
       "<Figure size 432x288 with 1 Axes>"
      ]
     },
     "metadata": {
      "needs_background": "light"
     },
     "output_type": "display_data"
    }
   ],
   "source": [
    "install['DAYS_INSTALMENT'].hist(bins=100)"
   ]
  },
  {
   "cell_type": "markdown",
   "id": "spatial-return",
   "metadata": {},
   "source": [
    "### BALANCE dataset check for columns and Null\n",
    "- POS_CACHE, INSTALL-> less NULL,\n",
    "- CREDIT_CARD -> Features related to drawing : many nulls"
   ]
  },
  {
   "cell_type": "code",
   "execution_count": 27,
   "id": "novel-henry",
   "metadata": {},
   "outputs": [
    {
     "name": "stdout",
     "output_type": "stream",
     "text": [
      "<class 'pandas.core.frame.DataFrame'>\n",
      "RangeIndex: 10001358 entries, 0 to 10001357\n",
      "Data columns (total 8 columns):\n",
      " #   Column                 Dtype  \n",
      "---  ------                 -----  \n",
      " 0   SK_ID_PREV             uint32 \n",
      " 1   SK_ID_CURR             uint32 \n",
      " 2   MONTHS_BALANCE         int32  \n",
      " 3   CNT_INSTALMENT         float32\n",
      " 4   CNT_INSTALMENT_FUTURE  float32\n",
      " 5   NAME_CONTRACT_STATUS   object \n",
      " 6   SK_DPD                 int32  \n",
      " 7   SK_DPD_DEF             int32  \n",
      "dtypes: float32(2), int32(3), object(1), uint32(2)\n",
      "memory usage: 343.4+ MB\n"
     ]
    }
   ],
   "source": [
    "pos_bal.info()"
   ]
  },
  {
   "cell_type": "code",
   "execution_count": 28,
   "id": "turkish-confusion",
   "metadata": {},
   "outputs": [
    {
     "data": {
      "text/plain": [
       "SK_ID_PREV                   0\n",
       "SK_ID_CURR                   0\n",
       "MONTHS_BALANCE               0\n",
       "CNT_INSTALMENT           26071\n",
       "CNT_INSTALMENT_FUTURE    26087\n",
       "NAME_CONTRACT_STATUS         0\n",
       "SK_DPD                       0\n",
       "SK_DPD_DEF                   0\n",
       "dtype: int64"
      ]
     },
     "execution_count": 28,
     "metadata": {},
     "output_type": "execute_result"
    }
   ],
   "source": [
    "pos_bal.isnull().sum()"
   ]
  },
  {
   "cell_type": "code",
   "execution_count": 29,
   "id": "spoken-ceiling",
   "metadata": {},
   "outputs": [
    {
     "name": "stdout",
     "output_type": "stream",
     "text": [
      "<class 'pandas.core.frame.DataFrame'>\n",
      "RangeIndex: 13605401 entries, 0 to 13605400\n",
      "Data columns (total 8 columns):\n",
      " #   Column                  Dtype  \n",
      "---  ------                  -----  \n",
      " 0   SK_ID_PREV              uint32 \n",
      " 1   SK_ID_CURR              uint32 \n",
      " 2   NUM_INSTALMENT_VERSION  float32\n",
      " 3   NUM_INSTALMENT_NUMBER   int32  \n",
      " 4   DAYS_INSTALMENT         float32\n",
      " 5   DAYS_ENTRY_PAYMENT      float32\n",
      " 6   AMT_INSTALMENT          float32\n",
      " 7   AMT_PAYMENT             float32\n",
      "dtypes: float32(5), int32(1), uint32(2)\n",
      "memory usage: 415.2 MB\n"
     ]
    }
   ],
   "source": [
    "install.info()"
   ]
  },
  {
   "cell_type": "code",
   "execution_count": 30,
   "id": "fatty-graham",
   "metadata": {},
   "outputs": [
    {
     "data": {
      "text/plain": [
       "SK_ID_PREV                   0\n",
       "SK_ID_CURR                   0\n",
       "NUM_INSTALMENT_VERSION       0\n",
       "NUM_INSTALMENT_NUMBER        0\n",
       "DAYS_INSTALMENT              0\n",
       "DAYS_ENTRY_PAYMENT        2905\n",
       "AMT_INSTALMENT               0\n",
       "AMT_PAYMENT               2905\n",
       "dtype: int64"
      ]
     },
     "execution_count": 30,
     "metadata": {},
     "output_type": "execute_result"
    }
   ],
   "source": [
    "install.isnull().sum()"
   ]
  },
  {
   "cell_type": "code",
   "execution_count": 31,
   "id": "acceptable-swift",
   "metadata": {},
   "outputs": [
    {
     "name": "stdout",
     "output_type": "stream",
     "text": [
      "<class 'pandas.core.frame.DataFrame'>\n",
      "RangeIndex: 3840312 entries, 0 to 3840311\n",
      "Data columns (total 23 columns):\n",
      " #   Column                      Dtype  \n",
      "---  ------                      -----  \n",
      " 0   SK_ID_PREV                  uint32 \n",
      " 1   SK_ID_CURR                  uint32 \n",
      " 2   MONTHS_BALANCE              int16  \n",
      " 3   AMT_BALANCE                 float32\n",
      " 4   AMT_CREDIT_LIMIT_ACTUAL     int32  \n",
      " 5   AMT_DRAWINGS_ATM_CURRENT    float32\n",
      " 6   AMT_DRAWINGS_CURRENT        float32\n",
      " 7   AMT_DRAWINGS_OTHER_CURRENT  float32\n",
      " 8   AMT_DRAWINGS_POS_CURRENT    float32\n",
      " 9   AMT_INST_MIN_REGULARITY     float32\n",
      " 10  AMT_PAYMENT_CURRENT         float32\n",
      " 11  AMT_PAYMENT_TOTAL_CURRENT   float32\n",
      " 12  AMT_RECEIVABLE_PRINCIPAL    float32\n",
      " 13  AMT_RECIVABLE               float32\n",
      " 14  AMT_TOTAL_RECEIVABLE        float32\n",
      " 15  CNT_DRAWINGS_ATM_CURRENT    float32\n",
      " 16  CNT_DRAWINGS_CURRENT        int32  \n",
      " 17  CNT_DRAWINGS_OTHER_CURRENT  float32\n",
      " 18  CNT_DRAWINGS_POS_CURRENT    float32\n",
      " 19  CNT_INSTALMENT_MATURE_CUM   float32\n",
      " 20  NAME_CONTRACT_STATUS        object \n",
      " 21  SK_DPD                      int32  \n",
      " 22  SK_DPD_DEF                  int32  \n",
      "dtypes: float32(15), int16(1), int32(4), object(1), uint32(2)\n",
      "memory usage: 344.3+ MB\n"
     ]
    }
   ],
   "source": [
    "card_bal.info()"
   ]
  },
  {
   "cell_type": "code",
   "execution_count": 32,
   "id": "continental-cyprus",
   "metadata": {},
   "outputs": [
    {
     "data": {
      "text/plain": [
       "SK_ID_PREV                         0\n",
       "SK_ID_CURR                         0\n",
       "MONTHS_BALANCE                     0\n",
       "AMT_BALANCE                        0\n",
       "AMT_CREDIT_LIMIT_ACTUAL            0\n",
       "AMT_DRAWINGS_ATM_CURRENT      749816\n",
       "AMT_DRAWINGS_CURRENT               0\n",
       "AMT_DRAWINGS_OTHER_CURRENT    749816\n",
       "AMT_DRAWINGS_POS_CURRENT      749816\n",
       "AMT_INST_MIN_REGULARITY       305236\n",
       "AMT_PAYMENT_CURRENT           767988\n",
       "AMT_PAYMENT_TOTAL_CURRENT          0\n",
       "AMT_RECEIVABLE_PRINCIPAL           0\n",
       "AMT_RECIVABLE                      0\n",
       "AMT_TOTAL_RECEIVABLE               0\n",
       "CNT_DRAWINGS_ATM_CURRENT      749816\n",
       "CNT_DRAWINGS_CURRENT               0\n",
       "CNT_DRAWINGS_OTHER_CURRENT    749816\n",
       "CNT_DRAWINGS_POS_CURRENT      749816\n",
       "CNT_INSTALMENT_MATURE_CUM     305236\n",
       "NAME_CONTRACT_STATUS               0\n",
       "SK_DPD                             0\n",
       "SK_DPD_DEF                         0\n",
       "dtype: int64"
      ]
     },
     "execution_count": 32,
     "metadata": {},
     "output_type": "execute_result"
    }
   ],
   "source": [
    "card_bal.isnull().sum()"
   ]
  },
  {
   "cell_type": "markdown",
   "id": "subject-middle",
   "metadata": {},
   "source": [
    "#### POS_CASH numerical features' histogram based on TARGET"
   ]
  },
  {
   "cell_type": "code",
   "execution_count": 135,
   "id": "technical-olympus",
   "metadata": {},
   "outputs": [
    {
     "name": "stdout",
     "output_type": "stream",
     "text": [
      "['MONTHS_BALANCE', 'CNT_INSTALMENT', 'CNT_INSTALMENT_FUTURE', 'SK_DPD', 'SK_DPD_DEF']\n"
     ]
    }
   ],
   "source": [
    "# merge apps to get TARGET\n",
    "pos_bal_app = pos_bal.merge(apps[['SK_ID_CURR', 'TARGET']], on='SK_ID_CURR', how='left')\n",
    "pos_num_columns = pos_bal_app.dtypes[pos_bal_app.dtypes != 'object'].index.tolist()\n",
    "pos_num_columns = [column for column in pos_num_columns if column not in ['SK_ID_CURR', 'SK_ID_PREV', 'TARGET']]\n",
    "print(pos_num_columns)"
   ]
  },
  {
   "cell_type": "code",
   "execution_count": 72,
   "id": "effective-master",
   "metadata": {},
   "outputs": [],
   "source": [
    "def show_hist_by_target(df, columns):\n",
    "    cond_1 = df['TARGET']==1\n",
    "    cond_0 = df['TARGET']==0\n",
    "    \n",
    "    for column in columns:\n",
    "        print('column:', column)\n",
    "        fig, axs = plt.subplots(figsize=(12,4), nrows=1, ncols=2, squeeze=False)\n",
    "        sns.violinplot(x='TARGET', y=column, data=df[np.isfinite(df[column])], ax=axs[0][0])\n",
    "        sns.histplot(df[cond_0 & np.isfinite(df[column])][column], label='0', color='blue',stat='density', bins = 100, ax=axs[0][1])\n",
    "        sns.histplot(df[cond_1 & np.isfinite(df[column])][column], label='1', color='red', stat='density', bins = 100, ax=axs[0][1])"
   ]
  },
  {
   "cell_type": "code",
   "execution_count": 66,
   "id": "flush-petroleum",
   "metadata": {},
   "outputs": [],
   "source": [
    "def show_hist_by_target_single(df, columns):\n",
    "    cond_1 = df['TARGET']==1\n",
    "    cond_0 = df['TARGET']==0\n",
    "    \n",
    "    for column in columns:\n",
    "        print('column:', column)\n",
    "        plt.figure(figsize=(4, 4))\n",
    "        sns.histplot(df[cond_0][column], label='0', color='blue', kde=True, stat='density')\n",
    "        sns.histplot(df[cond_1][column], label='1', color='red', kde=True, stat='density')"
   ]
  },
  {
   "cell_type": "code",
   "execution_count": 67,
   "id": "skilled-committee",
   "metadata": {},
   "outputs": [
    {
     "name": "stdout",
     "output_type": "stream",
     "text": [
      "column: MONTHS_BALANCE\n",
      "column: CNT_INSTALMENT\n",
      "column: CNT_INSTALMENT_FUTURE\n",
      "column: SK_DPD\n",
      "column: SK_DPD_DEF\n"
     ]
    },
    {
     "data": {
      "image/png": "[encoded data removed]",
      "text/plain": [
       "<Figure size 288x288 with 1 Axes>"
      ]
     },
     "metadata": {
      "needs_background": "light"
     },
     "output_type": "display_data"
    },
    {
     "data": {
      "image/png": "[encoded data removed]",
      "text/plain": [
       "<Figure size 288x288 with 1 Axes>"
      ]
     },
     "metadata": {
      "needs_background": "light"
     },
     "output_type": "display_data"
    },
    {
     "data": {
      "image/png": "[encoded data removed]",
      "text/plain": [
       "<Figure size 288x288 with 1 Axes>"
      ]
     },
     "metadata": {
      "needs_background": "light"
     },
     "output_type": "display_data"
    },
    {
     "data": {
      "image/png": "[encoded data removed]",
      "text/plain": [
       "<Figure size 288x288 with 1 Axes>"
      ]
     },
     "metadata": {
      "needs_background": "light"
     },
     "output_type": "display_data"
    },
    {
     "data": {
      "image/png": "[encoded data removed]",
      "text/plain": [
       "<Figure size 288x288 with 1 Axes>"
      ]
     },
     "metadata": {
      "needs_background": "light"
     },
     "output_type": "display_data"
    }
   ],
   "source": [
    "show_hist_by_target_single(pos_bal_app, pos_num_columns)"
   ]
  },
  {
   "cell_type": "markdown",
   "id": "improving-blond",
   "metadata": {},
   "source": [
    "### INSTAllMENTS numerical features histogram based on TARGET"
   ]
  },
  {
   "cell_type": "code",
   "execution_count": 136,
   "id": "green-particle",
   "metadata": {},
   "outputs": [
    {
     "name": "stdout",
     "output_type": "stream",
     "text": [
      "['NUM_INSTALMENT_VERSION', 'NUM_INSTALMENT_NUMBER', 'DAYS_INSTALMENT', 'DAYS_ENTRY_PAYMENT', 'AMT_INSTALMENT', 'AMT_PAYMENT']\n"
     ]
    }
   ],
   "source": [
    "install_app = install.merge(apps[['SK_ID_CURR', 'TARGET']], on='SK_ID_CURR', how='left')\n",
    "install_num_columns = install_app.dtypes[install_app.dtypes!='object'].index.tolist()\n",
    "install_num_columns = [column for column in install_num_columns if column not in ['SK_ID_PREV', 'SK_ID_CURR', 'TARGET']]\n",
    "print(install_num_columns)"
   ]
  },
  {
   "cell_type": "code",
   "execution_count": 73,
   "id": "sweet-scroll",
   "metadata": {},
   "outputs": [
    {
     "name": "stdout",
     "output_type": "stream",
     "text": [
      "column: NUM_INSTALMENT_VERSION\n",
      "column: NUM_INSTALMENT_NUMBER\n",
      "column: DAYS_INSTALMENT\n",
      "column: DAYS_ENTRY_PAYMENT\n",
      "column: AMT_INSTALMENT\n",
      "column: AMT_PAYMENT\n"
     ]
    },
    {
     "data": {
      "image/png": "[encoded data removed]",
      "text/plain": [
       "<Figure size 864x288 with 2 Axes>"
      ]
     },
     "metadata": {
      "needs_background": "light"
     },
     "output_type": "display_data"
    },
    {
     "data": {
      "image/png": "[encoded data removed]",
      "text/plain": [
       "<Figure size 864x288 with 2 Axes>"
      ]
     },
     "metadata": {
      "needs_background": "light"
     },
     "output_type": "display_data"
    },
    {
     "data": {
      "image/png": "[encoded data removed]",
      "text/plain": [
       "<Figure size 864x288 with 2 Axes>"
      ]
     },
     "metadata": {
      "needs_background": "light"
     },
     "output_type": "display_data"
    },
    {
     "data": {
      "image/png": "[encoded data removed]",
      "text/plain": [
       "<Figure size 864x288 with 2 Axes>"
      ]
     },
     "metadata": {
      "needs_background": "light"
     },
     "output_type": "display_data"
    },
    {
     "data": {
      "image/png": "[encoded data removed]",
      "text/plain": [
       "<Figure size 864x288 with 2 Axes>"
      ]
     },
     "metadata": {
      "needs_background": "light"
     },
     "output_type": "display_data"
    },
    {
     "data": {
      "image/png": "[encoded data removed]",
      "text/plain": [
       "<Figure size 864x288 with 2 Axes>"
      ]
     },
     "metadata": {
      "needs_background": "light"
     },
     "output_type": "display_data"
    }
   ],
   "source": [
    "show_hist_by_target(install_app, install_num_columns)"
   ]
  },
  {
   "cell_type": "markdown",
   "id": "charitable-bhutan",
   "metadata": {},
   "source": [
    "#### CREDIT_CARD numerical features histogram based on TARGET"
   ]
  },
  {
   "cell_type": "code",
   "execution_count": 137,
   "id": "living-economics",
   "metadata": {},
   "outputs": [
    {
     "name": "stdout",
     "output_type": "stream",
     "text": [
      "['MONTHS_BALANCE', 'AMT_BALANCE', 'AMT_CREDIT_LIMIT_ACTUAL', 'AMT_DRAWINGS_ATM_CURRENT', 'AMT_DRAWINGS_CURRENT', 'AMT_DRAWINGS_OTHER_CURRENT', 'AMT_DRAWINGS_POS_CURRENT', 'AMT_INST_MIN_REGULARITY', 'AMT_PAYMENT_CURRENT', 'AMT_PAYMENT_TOTAL_CURRENT', 'AMT_RECEIVABLE_PRINCIPAL', 'AMT_RECIVABLE', 'AMT_TOTAL_RECEIVABLE', 'CNT_DRAWINGS_ATM_CURRENT', 'CNT_DRAWINGS_CURRENT', 'CNT_DRAWINGS_OTHER_CURRENT', 'CNT_DRAWINGS_POS_CURRENT', 'CNT_INSTALMENT_MATURE_CUM', 'SK_DPD', 'SK_DPD_DEF']\n"
     ]
    }
   ],
   "source": [
    "card_bal_app = card_bal.merge(apps[['SK_ID_CURR', 'TARGET']], on='SK_ID_CURR', how='left')\n",
    "card_num_columns = card_bal_app.dtypes[card_bal_app.dtypes!='object'].index.tolist()\n",
    "card_num_columns = [column for column in card_num_columns if column not in ['SK_ID_PREV', 'SK_ID_CURR', 'TARGET']]\n",
    "print(card_num_columns)"
   ]
  },
  {
   "cell_type": "markdown",
   "id": "spread-collar",
   "metadata": {},
   "source": [
    "#### Categorical columns distribution\n",
    "- 'NAME_CONTRACT_STATUS' column is the only column that is categorical"
   ]
  },
  {
   "cell_type": "code",
   "execution_count": 138,
   "id": "textile-indication",
   "metadata": {},
   "outputs": [
    {
     "data": {
      "text/plain": [
       "Active                   9151119\n",
       "Completed                 744883\n",
       "Signed                     87260\n",
       "Demand                      7065\n",
       "Returned to the store       5461\n",
       "Approved                    4917\n",
       "Amortized debt               636\n",
       "Canceled                      15\n",
       "XNA                            2\n",
       "Name: NAME_CONTRACT_STATUS, dtype: int64"
      ]
     },
     "execution_count": 138,
     "metadata": {},
     "output_type": "execute_result"
    }
   ],
   "source": [
    "pos_bal['NAME_CONTRACT_STATUS'].value_counts()"
   ]
  },
  {
   "cell_type": "code",
   "execution_count": 139,
   "id": "premier-fifteen",
   "metadata": {},
   "outputs": [
    {
     "data": {
      "text/plain": [
       "Active           3698436\n",
       "Completed         128918\n",
       "Signed             11058\n",
       "Demand              1365\n",
       "Sent proposal        513\n",
       "Refused               17\n",
       "Approved               5\n",
       "Name: NAME_CONTRACT_STATUS, dtype: int64"
      ]
     },
     "execution_count": 139,
     "metadata": {},
     "output_type": "execute_result"
    }
   ],
   "source": [
    "card_bal['NAME_CONTRACT_STATUS'].value_counts()"
   ]
  },
  {
   "cell_type": "markdown",
   "id": "trained-statement",
   "metadata": {},
   "source": [
    "#### POS_CASH_balance Feature Engineering"
   ]
  },
  {
   "cell_type": "markdown",
   "id": "legal-tumor",
   "metadata": {},
   "source": [
    "-SK_DPD"
   ]
  },
  {
   "cell_type": "code",
   "execution_count": 140,
   "id": "together-dealing",
   "metadata": {},
   "outputs": [
    {
     "data": {
      "text/plain": [
       "0       9706131\n",
       "1         21872\n",
       "2         17358\n",
       "3         14403\n",
       "4         12350\n",
       "         ...   \n",
       "3273          1\n",
       "3272          1\n",
       "3275          1\n",
       "3277          1\n",
       "4231          1\n",
       "Name: SK_DPD, Length: 3400, dtype: int64"
      ]
     },
     "execution_count": 140,
     "metadata": {},
     "output_type": "execute_result"
    }
   ],
   "source": [
    "pos_bal['SK_DPD'].value_counts()"
   ]
  },
  {
   "cell_type": "code",
   "execution_count": 141,
   "id": "plastic-collectible",
   "metadata": {},
   "outputs": [
    {
     "data": {
      "text/plain": [
       "(10001358, 8)"
      ]
     },
     "execution_count": 141,
     "metadata": {},
     "output_type": "execute_result"
    }
   ],
   "source": [
    "pos_bal.shape"
   ]
  },
  {
   "cell_type": "code",
   "execution_count": 142,
   "id": "informal-swift",
   "metadata": {},
   "outputs": [
    {
     "name": "stdout",
     "output_type": "stream",
     "text": [
      "delayed ratio:      0.02951869136171308\n",
      "delayed < 30:       0.01631468446584954\n",
      "30 < delayed < 30:  0.01631468446584954\n",
      "delayed < 30:       0.01631468446584954\n"
     ]
    }
   ],
   "source": [
    "# SK_DPD>0, 0<SK_DPD<30, SK_DPD>120\n",
    "cond_over_0 = pos_bal['SK_DPD']>0\n",
    "cond_over_0_30 = cond_over_0 & (pos_bal['SK_DPD']<=30)\n",
    "cond_over_30_120 = (pos_bal['SK_DPD']>30) & (pos_bal['SK_DPD']<120)\n",
    "cond_over_120 = pos_bal['SK_DPD']>120\n",
    "\n",
    "print('delayed ratio:     ', pos_bal[cond_over_0].shape[0]/pos_bal.shape[0])\n",
    "print('delayed < 30:      ', pos_bal[cond_over_0_30].shape[0]/pos_bal.shape[0])\n",
    "print('30 < delayed < 30: ', pos_bal[cond_over_0_30].shape[0]/pos_bal.shape[0])\n",
    "print('delayed < 30:      ', pos_bal[cond_over_0_30].shape[0]/pos_bal.shape[0])"
   ]
  },
  {
   "cell_type": "code",
   "execution_count": 143,
   "id": "transparent-quantum",
   "metadata": {},
   "outputs": [],
   "source": [
    "pos_bal['POS_IS_DPD'] = pos_bal['SK_DPD'].apply(lambda x : 1 if x>0 else 0)\n",
    "pos_bal['POS_IS_DPD_UNDER_120'] = pos_bal['SK_DPD'].apply(lambda x : 1 if (x>0 and x<120) else 0)\n",
    "pos_bal['POS_IS_DPD_OVER_120'] = pos_bal['SK_DPD'].apply(lambda x: 1 if x>=120 else 0)"
   ]
  },
  {
   "cell_type": "code",
   "execution_count": 81,
   "id": "legendary-dallas",
   "metadata": {},
   "outputs": [
    {
     "data": {
      "text/html": [
       "<div>\n",
       "<style scoped>\n",
       "    .dataframe tbody tr th:only-of-type {\n",
       "        vertical-align: middle;\n",
       "    }\n",
       "\n",
       "    .dataframe tbody tr th {\n",
       "        vertical-align: top;\n",
       "    }\n",
       "\n",
       "    .dataframe thead th {\n",
       "        text-align: right;\n",
       "    }\n",
       "</style>\n",
       "<table border=\"1\" class=\"dataframe\">\n",
       "  <thead>\n",
       "    <tr style=\"text-align: right;\">\n",
       "      <th></th>\n",
       "      <th>SK_ID_PREV</th>\n",
       "      <th>SK_ID_CURR</th>\n",
       "      <th>MONTHS_BALANCE</th>\n",
       "      <th>CNT_INSTALMENT</th>\n",
       "      <th>CNT_INSTALMENT_FUTURE</th>\n",
       "      <th>NAME_CONTRACT_STATUS</th>\n",
       "      <th>SK_DPD</th>\n",
       "      <th>SK_DPD_DEF</th>\n",
       "      <th>POS_IS_DPD</th>\n",
       "      <th>POS_IS_DPD_UNDER_120</th>\n",
       "      <th>POS_IS_DPD_OVER_120</th>\n",
       "    </tr>\n",
       "  </thead>\n",
       "  <tbody>\n",
       "    <tr>\n",
       "      <th>2252</th>\n",
       "      <td>2562793</td>\n",
       "      <td>287880</td>\n",
       "      <td>-46</td>\n",
       "      <td>7.0</td>\n",
       "      <td>0.0</td>\n",
       "      <td>Active</td>\n",
       "      <td>1105</td>\n",
       "      <td>0</td>\n",
       "      <td>1</td>\n",
       "      <td>0</td>\n",
       "      <td>1</td>\n",
       "    </tr>\n",
       "    <tr>\n",
       "      <th>3507</th>\n",
       "      <td>1290101</td>\n",
       "      <td>322484</td>\n",
       "      <td>-37</td>\n",
       "      <td>6.0</td>\n",
       "      <td>0.0</td>\n",
       "      <td>Active</td>\n",
       "      <td>329</td>\n",
       "      <td>0</td>\n",
       "      <td>1</td>\n",
       "      <td>0</td>\n",
       "      <td>1</td>\n",
       "    </tr>\n",
       "    <tr>\n",
       "      <th>3996</th>\n",
       "      <td>2002705</td>\n",
       "      <td>413918</td>\n",
       "      <td>-48</td>\n",
       "      <td>6.0</td>\n",
       "      <td>0.0</td>\n",
       "      <td>Active</td>\n",
       "      <td>146</td>\n",
       "      <td>0</td>\n",
       "      <td>1</td>\n",
       "      <td>0</td>\n",
       "      <td>1</td>\n",
       "    </tr>\n",
       "    <tr>\n",
       "      <th>4438</th>\n",
       "      <td>1184431</td>\n",
       "      <td>369596</td>\n",
       "      <td>-44</td>\n",
       "      <td>6.0</td>\n",
       "      <td>0.0</td>\n",
       "      <td>Active</td>\n",
       "      <td>173</td>\n",
       "      <td>0</td>\n",
       "      <td>1</td>\n",
       "      <td>0</td>\n",
       "      <td>1</td>\n",
       "    </tr>\n",
       "    <tr>\n",
       "      <th>5234</th>\n",
       "      <td>1526249</td>\n",
       "      <td>275666</td>\n",
       "      <td>-39</td>\n",
       "      <td>12.0</td>\n",
       "      <td>0.0</td>\n",
       "      <td>Active</td>\n",
       "      <td>798</td>\n",
       "      <td>0</td>\n",
       "      <td>1</td>\n",
       "      <td>0</td>\n",
       "      <td>1</td>\n",
       "    </tr>\n",
       "  </tbody>\n",
       "</table>\n",
       "</div>"
      ],
      "text/plain": [
       "      SK_ID_PREV  SK_ID_CURR  MONTHS_BALANCE  CNT_INSTALMENT  \\\n",
       "2252     2562793      287880             -46             7.0   \n",
       "3507     1290101      322484             -37             6.0   \n",
       "3996     2002705      413918             -48             6.0   \n",
       "4438     1184431      369596             -44             6.0   \n",
       "5234     1526249      275666             -39            12.0   \n",
       "\n",
       "      CNT_INSTALMENT_FUTURE NAME_CONTRACT_STATUS  SK_DPD  SK_DPD_DEF  \\\n",
       "2252                    0.0               Active    1105           0   \n",
       "3507                    0.0               Active     329           0   \n",
       "3996                    0.0               Active     146           0   \n",
       "4438                    0.0               Active     173           0   \n",
       "5234                    0.0               Active     798           0   \n",
       "\n",
       "      POS_IS_DPD  POS_IS_DPD_UNDER_120  POS_IS_DPD_OVER_120  \n",
       "2252           1                     0                    1  \n",
       "3507           1                     0                    1  \n",
       "3996           1                     0                    1  \n",
       "4438           1                     0                    1  \n",
       "5234           1                     0                    1  "
      ]
     },
     "execution_count": 81,
     "metadata": {},
     "output_type": "execute_result"
    }
   ],
   "source": [
    "pos_bal[cond_over_120].head()"
   ]
  },
  {
   "cell_type": "markdown",
   "id": "seeing-acting",
   "metadata": {},
   "source": [
    "#### Aggregation columns using original columns and newly made columns"
   ]
  },
  {
   "cell_type": "code",
   "execution_count": 144,
   "id": "hollywood-despite",
   "metadata": {},
   "outputs": [],
   "source": [
    "pos_bal_grp = pos_bal.groupby('SK_ID_CURR')\n",
    "pos_bal_agg_dict = {\n",
    "    # original columns\n",
    "    'SK_ID_CURR':['count'],\n",
    "    'MONTHS_BALANCE':['min','mean','max'],\n",
    "    'SK_DPD':['min','mean','max'],\n",
    "    # newly added columns\n",
    "    'POS_IS_DPD':['mean','sum'], # mean : Ratio, sum : Count\n",
    "    'POS_IS_DPD_UNDER_120':['mean','sum'],\n",
    "    'POS_IS_DPD_OVER_120':['mean','sum']    \n",
    "}\n",
    "\n",
    "pos_bal_agg = pos_bal_grp.agg(pos_bal_agg_dict)\n",
    "pos_bal_agg.columns = ['POS_'+'_'.join(column).upper() for column in pos_bal_agg.columns]"
   ]
  },
  {
   "cell_type": "code",
   "execution_count": 83,
   "id": "smart-request",
   "metadata": {},
   "outputs": [
    {
     "data": {
      "text/html": [
       "<div>\n",
       "<style scoped>\n",
       "    .dataframe tbody tr th:only-of-type {\n",
       "        vertical-align: middle;\n",
       "    }\n",
       "\n",
       "    .dataframe tbody tr th {\n",
       "        vertical-align: top;\n",
       "    }\n",
       "\n",
       "    .dataframe thead th {\n",
       "        text-align: right;\n",
       "    }\n",
       "</style>\n",
       "<table border=\"1\" class=\"dataframe\">\n",
       "  <thead>\n",
       "    <tr style=\"text-align: right;\">\n",
       "      <th></th>\n",
       "      <th>POS_SK_ID_CURR_COUNT</th>\n",
       "      <th>POS_MONTHS_BALANCE_MIN</th>\n",
       "      <th>POS_MONTHS_BALANCE_MEAN</th>\n",
       "      <th>POS_MONTHS_BALANCE_MAX</th>\n",
       "      <th>POS_SK_DPD_MIN</th>\n",
       "      <th>POS_SK_DPD_MEAN</th>\n",
       "      <th>POS_SK_DPD_MAX</th>\n",
       "      <th>POS_POS_IS_DPD_MEAN</th>\n",
       "      <th>POS_POS_IS_DPD_SUM</th>\n",
       "      <th>POS_POS_IS_DPD_UNDER_120_MEAN</th>\n",
       "      <th>POS_POS_IS_DPD_UNDER_120_SUM</th>\n",
       "      <th>POS_POS_IS_DPD_OVER_120_MEAN</th>\n",
       "      <th>POS_POS_IS_DPD_OVER_120_SUM</th>\n",
       "    </tr>\n",
       "    <tr>\n",
       "      <th>SK_ID_CURR</th>\n",
       "      <th></th>\n",
       "      <th></th>\n",
       "      <th></th>\n",
       "      <th></th>\n",
       "      <th></th>\n",
       "      <th></th>\n",
       "      <th></th>\n",
       "      <th></th>\n",
       "      <th></th>\n",
       "      <th></th>\n",
       "      <th></th>\n",
       "      <th></th>\n",
       "      <th></th>\n",
       "    </tr>\n",
       "  </thead>\n",
       "  <tbody>\n",
       "    <tr>\n",
       "      <th>100001</th>\n",
       "      <td>9</td>\n",
       "      <td>-96</td>\n",
       "      <td>-72.555556</td>\n",
       "      <td>-53</td>\n",
       "      <td>0</td>\n",
       "      <td>0.777778</td>\n",
       "      <td>7</td>\n",
       "      <td>0.111111</td>\n",
       "      <td>1</td>\n",
       "      <td>0.111111</td>\n",
       "      <td>1</td>\n",
       "      <td>0.0</td>\n",
       "      <td>0</td>\n",
       "    </tr>\n",
       "    <tr>\n",
       "      <th>100002</th>\n",
       "      <td>19</td>\n",
       "      <td>-19</td>\n",
       "      <td>-10.000000</td>\n",
       "      <td>-1</td>\n",
       "      <td>0</td>\n",
       "      <td>0.000000</td>\n",
       "      <td>0</td>\n",
       "      <td>0.000000</td>\n",
       "      <td>0</td>\n",
       "      <td>0.000000</td>\n",
       "      <td>0</td>\n",
       "      <td>0.0</td>\n",
       "      <td>0</td>\n",
       "    </tr>\n",
       "    <tr>\n",
       "      <th>100003</th>\n",
       "      <td>28</td>\n",
       "      <td>-77</td>\n",
       "      <td>-43.785714</td>\n",
       "      <td>-18</td>\n",
       "      <td>0</td>\n",
       "      <td>0.000000</td>\n",
       "      <td>0</td>\n",
       "      <td>0.000000</td>\n",
       "      <td>0</td>\n",
       "      <td>0.000000</td>\n",
       "      <td>0</td>\n",
       "      <td>0.0</td>\n",
       "      <td>0</td>\n",
       "    </tr>\n",
       "    <tr>\n",
       "      <th>100004</th>\n",
       "      <td>4</td>\n",
       "      <td>-27</td>\n",
       "      <td>-25.500000</td>\n",
       "      <td>-24</td>\n",
       "      <td>0</td>\n",
       "      <td>0.000000</td>\n",
       "      <td>0</td>\n",
       "      <td>0.000000</td>\n",
       "      <td>0</td>\n",
       "      <td>0.000000</td>\n",
       "      <td>0</td>\n",
       "      <td>0.0</td>\n",
       "      <td>0</td>\n",
       "    </tr>\n",
       "    <tr>\n",
       "      <th>100005</th>\n",
       "      <td>11</td>\n",
       "      <td>-25</td>\n",
       "      <td>-20.000000</td>\n",
       "      <td>-15</td>\n",
       "      <td>0</td>\n",
       "      <td>0.000000</td>\n",
       "      <td>0</td>\n",
       "      <td>0.000000</td>\n",
       "      <td>0</td>\n",
       "      <td>0.000000</td>\n",
       "      <td>0</td>\n",
       "      <td>0.0</td>\n",
       "      <td>0</td>\n",
       "    </tr>\n",
       "  </tbody>\n",
       "</table>\n",
       "</div>"
      ],
      "text/plain": [
       "            POS_SK_ID_CURR_COUNT  POS_MONTHS_BALANCE_MIN  \\\n",
       "SK_ID_CURR                                                 \n",
       "100001                         9                     -96   \n",
       "100002                        19                     -19   \n",
       "100003                        28                     -77   \n",
       "100004                         4                     -27   \n",
       "100005                        11                     -25   \n",
       "\n",
       "            POS_MONTHS_BALANCE_MEAN  POS_MONTHS_BALANCE_MAX  POS_SK_DPD_MIN  \\\n",
       "SK_ID_CURR                                                                    \n",
       "100001                   -72.555556                     -53               0   \n",
       "100002                   -10.000000                      -1               0   \n",
       "100003                   -43.785714                     -18               0   \n",
       "100004                   -25.500000                     -24               0   \n",
       "100005                   -20.000000                     -15               0   \n",
       "\n",
       "            POS_SK_DPD_MEAN  POS_SK_DPD_MAX  POS_POS_IS_DPD_MEAN  \\\n",
       "SK_ID_CURR                                                         \n",
       "100001             0.777778               7             0.111111   \n",
       "100002             0.000000               0             0.000000   \n",
       "100003             0.000000               0             0.000000   \n",
       "100004             0.000000               0             0.000000   \n",
       "100005             0.000000               0             0.000000   \n",
       "\n",
       "            POS_POS_IS_DPD_SUM  POS_POS_IS_DPD_UNDER_120_MEAN  \\\n",
       "SK_ID_CURR                                                      \n",
       "100001                       1                       0.111111   \n",
       "100002                       0                       0.000000   \n",
       "100003                       0                       0.000000   \n",
       "100004                       0                       0.000000   \n",
       "100005                       0                       0.000000   \n",
       "\n",
       "            POS_POS_IS_DPD_UNDER_120_SUM  POS_POS_IS_DPD_OVER_120_MEAN  \\\n",
       "SK_ID_CURR                                                               \n",
       "100001                                 1                           0.0   \n",
       "100002                                 0                           0.0   \n",
       "100003                                 0                           0.0   \n",
       "100004                                 0                           0.0   \n",
       "100005                                 0                           0.0   \n",
       "\n",
       "            POS_POS_IS_DPD_OVER_120_SUM  \n",
       "SK_ID_CURR                               \n",
       "100001                                0  \n",
       "100002                                0  \n",
       "100003                                0  \n",
       "100004                                0  \n",
       "100005                                0  "
      ]
     },
     "execution_count": 83,
     "metadata": {},
     "output_type": "execute_result"
    }
   ],
   "source": [
    "pos_bal_agg.head()"
   ]
  },
  {
   "cell_type": "markdown",
   "id": "suspended-glass",
   "metadata": {},
   "source": [
    "#### More Recent MONTHS_BALANCE POS_CASH_BALANCE"
   ]
  },
  {
   "cell_type": "code",
   "execution_count": 145,
   "id": "completed-revolution",
   "metadata": {},
   "outputs": [
    {
     "data": {
      "text/plain": [
       "(272296,)"
      ]
     },
     "execution_count": 145,
     "metadata": {},
     "output_type": "execute_result"
    }
   ],
   "source": [
    "cond_months = pos_bal['MONTHS_BALANCE'] > -20\n",
    "pos_bal[cond_months].groupby('SK_ID_CURR')['SK_ID_CURR'].count().shape"
   ]
  },
  {
   "cell_type": "code",
   "execution_count": 146,
   "id": "republican-cooperative",
   "metadata": {},
   "outputs": [
    {
     "data": {
      "text/plain": [
       "(337252,)"
      ]
     },
     "execution_count": 146,
     "metadata": {},
     "output_type": "execute_result"
    }
   ],
   "source": [
    "pos_bal.groupby('SK_ID_CURR')['SK_ID_CURR'].count().shape"
   ]
  },
  {
   "cell_type": "code",
   "execution_count": 147,
   "id": "african-dispatch",
   "metadata": {},
   "outputs": [],
   "source": [
    "cond_months = pos_bal['MONTHS_BALANCE']>-20\n",
    "pos_bal_m20_grp = pos_bal[cond_months].groupby('SK_ID_CURR')\n",
    "pos_bal_agg_dict = {\n",
    "    # original columns\n",
    "    'SK_ID_CURR':['count'],\n",
    "    'MONTHS_BALANCE':['min','mean','max'],\n",
    "    'SK_DPD':['min','mean','max'],\n",
    "    # newly added columns\n",
    "    'POS_IS_DPD':['mean','sum'], # mean : Ratio, sum : Count\n",
    "    'POS_IS_DPD_UNDER_120':['mean','sum'],\n",
    "    'POS_IS_DPD_OVER_120':['mean','sum']    \n",
    "}\n",
    "\n",
    "pos_bal_m20_agg = pos_bal_m20_grp.agg(pos_bal_agg_dict)\n",
    "pos_bal_m20_agg.columns = ['POS_M20'+'_'.join(column).upper() for column in pos_bal_m20_agg.columns]"
   ]
  },
  {
   "cell_type": "markdown",
   "id": "standard-variation",
   "metadata": {},
   "source": [
    "#### Merge pos_bal_agg and pos_bal_m20_agg, reset_index() to make SK_ID_CURR a column"
   ]
  },
  {
   "cell_type": "code",
   "execution_count": 148,
   "id": "uniform-bryan",
   "metadata": {},
   "outputs": [],
   "source": [
    "pos_bal_agg = pos_bal_agg.merge(pos_bal_m20_agg, on='SK_ID_CURR', how='left')"
   ]
  },
  {
   "cell_type": "code",
   "execution_count": 149,
   "id": "median-verse",
   "metadata": {},
   "outputs": [],
   "source": [
    "pos_bal_agg = pos_bal_agg.reset_index()"
   ]
  },
  {
   "cell_type": "code",
   "execution_count": 150,
   "id": "fallen-archive",
   "metadata": {},
   "outputs": [
    {
     "data": {
      "text/plain": [
       "(337252, 27)"
      ]
     },
     "execution_count": 150,
     "metadata": {},
     "output_type": "execute_result"
    }
   ],
   "source": [
    "pos_bal_agg.shape"
   ]
  },
  {
   "cell_type": "markdown",
   "id": "liberal-christianity",
   "metadata": {},
   "source": [
    "### Instalments_payments dataset processing\n",
    "- planned payment and actual payment\n",
    "- planned payment day and actual payment day"
   ]
  },
  {
   "cell_type": "code",
   "execution_count": 94,
   "id": "after-boating",
   "metadata": {},
   "outputs": [
    {
     "data": {
      "text/html": [
       "<div>\n",
       "<style scoped>\n",
       "    .dataframe tbody tr th:only-of-type {\n",
       "        vertical-align: middle;\n",
       "    }\n",
       "\n",
       "    .dataframe tbody tr th {\n",
       "        vertical-align: top;\n",
       "    }\n",
       "\n",
       "    .dataframe thead th {\n",
       "        text-align: right;\n",
       "    }\n",
       "</style>\n",
       "<table border=\"1\" class=\"dataframe\">\n",
       "  <thead>\n",
       "    <tr style=\"text-align: right;\">\n",
       "      <th></th>\n",
       "      <th>SK_ID_PREV</th>\n",
       "      <th>SK_ID_CURR</th>\n",
       "      <th>NUM_INSTALMENT_VERSION</th>\n",
       "      <th>NUM_INSTALMENT_NUMBER</th>\n",
       "      <th>DAYS_INSTALMENT</th>\n",
       "      <th>DAYS_ENTRY_PAYMENT</th>\n",
       "      <th>AMT_INSTALMENT</th>\n",
       "      <th>AMT_PAYMENT</th>\n",
       "    </tr>\n",
       "  </thead>\n",
       "  <tbody>\n",
       "    <tr>\n",
       "      <th>0</th>\n",
       "      <td>1054186</td>\n",
       "      <td>161674</td>\n",
       "      <td>1.0</td>\n",
       "      <td>6</td>\n",
       "      <td>-1180.0</td>\n",
       "      <td>-1187.0</td>\n",
       "      <td>6948.359863</td>\n",
       "      <td>6948.359863</td>\n",
       "    </tr>\n",
       "    <tr>\n",
       "      <th>1</th>\n",
       "      <td>1330831</td>\n",
       "      <td>151639</td>\n",
       "      <td>0.0</td>\n",
       "      <td>34</td>\n",
       "      <td>-2156.0</td>\n",
       "      <td>-2156.0</td>\n",
       "      <td>1716.525024</td>\n",
       "      <td>1716.525024</td>\n",
       "    </tr>\n",
       "    <tr>\n",
       "      <th>2</th>\n",
       "      <td>2085231</td>\n",
       "      <td>193053</td>\n",
       "      <td>2.0</td>\n",
       "      <td>1</td>\n",
       "      <td>-63.0</td>\n",
       "      <td>-63.0</td>\n",
       "      <td>25425.000000</td>\n",
       "      <td>25425.000000</td>\n",
       "    </tr>\n",
       "    <tr>\n",
       "      <th>3</th>\n",
       "      <td>2452527</td>\n",
       "      <td>199697</td>\n",
       "      <td>1.0</td>\n",
       "      <td>3</td>\n",
       "      <td>-2418.0</td>\n",
       "      <td>-2426.0</td>\n",
       "      <td>24350.130859</td>\n",
       "      <td>24350.130859</td>\n",
       "    </tr>\n",
       "    <tr>\n",
       "      <th>4</th>\n",
       "      <td>2714724</td>\n",
       "      <td>167756</td>\n",
       "      <td>1.0</td>\n",
       "      <td>2</td>\n",
       "      <td>-1383.0</td>\n",
       "      <td>-1366.0</td>\n",
       "      <td>2165.040039</td>\n",
       "      <td>2160.584961</td>\n",
       "    </tr>\n",
       "  </tbody>\n",
       "</table>\n",
       "</div>"
      ],
      "text/plain": [
       "   SK_ID_PREV  SK_ID_CURR  NUM_INSTALMENT_VERSION  NUM_INSTALMENT_NUMBER  \\\n",
       "0     1054186      161674                     1.0                      6   \n",
       "1     1330831      151639                     0.0                     34   \n",
       "2     2085231      193053                     2.0                      1   \n",
       "3     2452527      199697                     1.0                      3   \n",
       "4     2714724      167756                     1.0                      2   \n",
       "\n",
       "   DAYS_INSTALMENT  DAYS_ENTRY_PAYMENT  AMT_INSTALMENT   AMT_PAYMENT  \n",
       "0          -1180.0             -1187.0     6948.359863   6948.359863  \n",
       "1          -2156.0             -2156.0     1716.525024   1716.525024  \n",
       "2            -63.0               -63.0    25425.000000  25425.000000  \n",
       "3          -2418.0             -2426.0    24350.130859  24350.130859  \n",
       "4          -1383.0             -1366.0     2165.040039   2160.584961  "
      ]
     },
     "execution_count": 94,
     "metadata": {},
     "output_type": "execute_result"
    }
   ],
   "source": [
    "install.head()"
   ]
  },
  {
   "cell_type": "code",
   "execution_count": 95,
   "id": "addressed-familiar",
   "metadata": {},
   "outputs": [
    {
     "data": {
      "text/html": [
       "<div>\n",
       "<style scoped>\n",
       "    .dataframe tbody tr th:only-of-type {\n",
       "        vertical-align: middle;\n",
       "    }\n",
       "\n",
       "    .dataframe tbody tr th {\n",
       "        vertical-align: top;\n",
       "    }\n",
       "\n",
       "    .dataframe thead th {\n",
       "        text-align: right;\n",
       "    }\n",
       "</style>\n",
       "<table border=\"1\" class=\"dataframe\">\n",
       "  <thead>\n",
       "    <tr style=\"text-align: right;\">\n",
       "      <th></th>\n",
       "      <th>SK_ID_PREV</th>\n",
       "      <th>SK_ID_CURR</th>\n",
       "      <th>NUM_INSTALMENT_VERSION</th>\n",
       "      <th>NUM_INSTALMENT_NUMBER</th>\n",
       "      <th>DAYS_INSTALMENT</th>\n",
       "      <th>DAYS_ENTRY_PAYMENT</th>\n",
       "      <th>AMT_INSTALMENT</th>\n",
       "      <th>AMT_PAYMENT</th>\n",
       "      <th>AMT_DIFF</th>\n",
       "      <th>AMT_RATIO</th>\n",
       "      <th>SK_DPD</th>\n",
       "    </tr>\n",
       "  </thead>\n",
       "  <tbody>\n",
       "    <tr>\n",
       "      <th>0</th>\n",
       "      <td>1054186</td>\n",
       "      <td>161674</td>\n",
       "      <td>1.0</td>\n",
       "      <td>6</td>\n",
       "      <td>-1180.0</td>\n",
       "      <td>-1187.0</td>\n",
       "      <td>6948.359863</td>\n",
       "      <td>6948.359863</td>\n",
       "      <td>0.000000</td>\n",
       "      <td>1.000000</td>\n",
       "      <td>-7.0</td>\n",
       "    </tr>\n",
       "    <tr>\n",
       "      <th>1</th>\n",
       "      <td>1330831</td>\n",
       "      <td>151639</td>\n",
       "      <td>0.0</td>\n",
       "      <td>34</td>\n",
       "      <td>-2156.0</td>\n",
       "      <td>-2156.0</td>\n",
       "      <td>1716.525024</td>\n",
       "      <td>1716.525024</td>\n",
       "      <td>0.000000</td>\n",
       "      <td>1.000000</td>\n",
       "      <td>0.0</td>\n",
       "    </tr>\n",
       "    <tr>\n",
       "      <th>2</th>\n",
       "      <td>2085231</td>\n",
       "      <td>193053</td>\n",
       "      <td>2.0</td>\n",
       "      <td>1</td>\n",
       "      <td>-63.0</td>\n",
       "      <td>-63.0</td>\n",
       "      <td>25425.000000</td>\n",
       "      <td>25425.000000</td>\n",
       "      <td>0.000000</td>\n",
       "      <td>1.000000</td>\n",
       "      <td>0.0</td>\n",
       "    </tr>\n",
       "    <tr>\n",
       "      <th>3</th>\n",
       "      <td>2452527</td>\n",
       "      <td>199697</td>\n",
       "      <td>1.0</td>\n",
       "      <td>3</td>\n",
       "      <td>-2418.0</td>\n",
       "      <td>-2426.0</td>\n",
       "      <td>24350.130859</td>\n",
       "      <td>24350.130859</td>\n",
       "      <td>0.000000</td>\n",
       "      <td>1.000000</td>\n",
       "      <td>-8.0</td>\n",
       "    </tr>\n",
       "    <tr>\n",
       "      <th>4</th>\n",
       "      <td>2714724</td>\n",
       "      <td>167756</td>\n",
       "      <td>1.0</td>\n",
       "      <td>2</td>\n",
       "      <td>-1383.0</td>\n",
       "      <td>-1366.0</td>\n",
       "      <td>2165.040039</td>\n",
       "      <td>2160.584961</td>\n",
       "      <td>4.455078</td>\n",
       "      <td>0.997943</td>\n",
       "      <td>17.0</td>\n",
       "    </tr>\n",
       "  </tbody>\n",
       "</table>\n",
       "</div>"
      ],
      "text/plain": [
       "   SK_ID_PREV  SK_ID_CURR  NUM_INSTALMENT_VERSION  NUM_INSTALMENT_NUMBER  \\\n",
       "0     1054186      161674                     1.0                      6   \n",
       "1     1330831      151639                     0.0                     34   \n",
       "2     2085231      193053                     2.0                      1   \n",
       "3     2452527      199697                     1.0                      3   \n",
       "4     2714724      167756                     1.0                      2   \n",
       "\n",
       "   DAYS_INSTALMENT  DAYS_ENTRY_PAYMENT  AMT_INSTALMENT   AMT_PAYMENT  \\\n",
       "0          -1180.0             -1187.0     6948.359863   6948.359863   \n",
       "1          -2156.0             -2156.0     1716.525024   1716.525024   \n",
       "2            -63.0               -63.0    25425.000000  25425.000000   \n",
       "3          -2418.0             -2426.0    24350.130859  24350.130859   \n",
       "4          -1383.0             -1366.0     2165.040039   2160.584961   \n",
       "\n",
       "   AMT_DIFF  AMT_RATIO  SK_DPD  \n",
       "0  0.000000   1.000000    -7.0  \n",
       "1  0.000000   1.000000     0.0  \n",
       "2  0.000000   1.000000     0.0  \n",
       "3  0.000000   1.000000    -8.0  \n",
       "4  4.455078   0.997943    17.0  "
      ]
     },
     "execution_count": 95,
     "metadata": {},
     "output_type": "execute_result"
    }
   ],
   "source": [
    "# planned payment, actual payment\n",
    "install['AMT_DIFF'] = install['AMT_INSTALMENT'] - install['AMT_PAYMENT']\n",
    "install['AMT_RATIO'] = (install['AMT_PAYMENT']+1)/(install['AMT_INSTALMENT']+1) # prevent divide by 0 \n",
    "\n",
    "install['SK_DPD'] = install['DAYS_ENTRY_PAYMENT'] - install['DAYS_INSTALMENT']\n",
    "install.head()"
   ]
  },
  {
   "cell_type": "markdown",
   "id": "informed-retention",
   "metadata": {},
   "source": [
    "- delayed payment due (SK_DPD)>0, 0<SK_DPD<30, SK_DPD>120"
   ]
  },
  {
   "cell_type": "code",
   "execution_count": 99,
   "id": "comparable-comparison",
   "metadata": {},
   "outputs": [
    {
     "name": "stdout",
     "output_type": "stream",
     "text": [
      "DPD ratio          : 0.08428042657471103\n",
      "DPD < 30 ratio     : 0.08144023097885905\n",
      "30 < DPD <120 ratio: 0.002042791682509027\n",
      "DPD > 120 ratio    : 0.0007974039133429437\n"
     ]
    }
   ],
   "source": [
    "cond_over_0 = install['SK_DPD']>0\n",
    "cond_over_0_30 = (install['SK_DPD']>0) & (install['SK_DPD']<=30)\n",
    "cond_over_30_120 = (install['SK_DPD']<120) & (install['SK_DPD']>30)\n",
    "cond_over_120 = install['SK_DPD']>=120\n",
    "\n",
    "print('DPD ratio          :', install[cond_over_0].shape[0]/install.shape[0])\n",
    "print('DPD < 30 ratio     :', install[cond_over_0_30].shape[0]/install.shape[0])\n",
    "print('30 < DPD <120 ratio:', install[cond_over_30_120].shape[0]/install.shape[0])\n",
    "print('DPD > 120 ratio    :', install[cond_over_120].shape[0]/install.shape[0])"
   ]
  },
  {
   "cell_type": "markdown",
   "id": "silent-brook",
   "metadata": {},
   "source": [
    "- Delayed payment? 0<DPD<120?, DPD>120?"
   ]
  },
  {
   "cell_type": "code",
   "execution_count": 102,
   "id": "cubic-wichita",
   "metadata": {},
   "outputs": [],
   "source": [
    "install['INS_IS_DPD'] = install['SK_DPD'].apply(lambda x : 1 if x>0 else 0)\n",
    "install['INS_IS_DPD_UNDER_120'] = install['SK_DPD'].apply(lambda x : 1 if (x>0) & (x<120) else 0)\n",
    "install['INS_IS_DPD_OVER_120'] = install['SK_DPD'].apply(lambda x : 1 if x>=120 else 0)"
   ]
  },
  {
   "cell_type": "code",
   "execution_count": 103,
   "id": "minute-swaziland",
   "metadata": {},
   "outputs": [
    {
     "data": {
      "text/html": [
       "<div>\n",
       "<style scoped>\n",
       "    .dataframe tbody tr th:only-of-type {\n",
       "        vertical-align: middle;\n",
       "    }\n",
       "\n",
       "    .dataframe tbody tr th {\n",
       "        vertical-align: top;\n",
       "    }\n",
       "\n",
       "    .dataframe thead th {\n",
       "        text-align: right;\n",
       "    }\n",
       "</style>\n",
       "<table border=\"1\" class=\"dataframe\">\n",
       "  <thead>\n",
       "    <tr style=\"text-align: right;\">\n",
       "      <th></th>\n",
       "      <th>SK_ID_PREV</th>\n",
       "      <th>SK_ID_CURR</th>\n",
       "      <th>NUM_INSTALMENT_VERSION</th>\n",
       "      <th>NUM_INSTALMENT_NUMBER</th>\n",
       "      <th>DAYS_INSTALMENT</th>\n",
       "      <th>DAYS_ENTRY_PAYMENT</th>\n",
       "      <th>AMT_INSTALMENT</th>\n",
       "      <th>AMT_PAYMENT</th>\n",
       "      <th>AMT_DIFF</th>\n",
       "      <th>AMT_RATIO</th>\n",
       "      <th>SK_DPD</th>\n",
       "      <th>INS_IS_DPD</th>\n",
       "      <th>INS_IS_DPD_UNDER_120</th>\n",
       "      <th>INS_IS_DPD_OVER_120</th>\n",
       "    </tr>\n",
       "  </thead>\n",
       "  <tbody>\n",
       "    <tr>\n",
       "      <th>0</th>\n",
       "      <td>1054186</td>\n",
       "      <td>161674</td>\n",
       "      <td>1.0</td>\n",
       "      <td>6</td>\n",
       "      <td>-1180.0</td>\n",
       "      <td>-1187.0</td>\n",
       "      <td>6948.359863</td>\n",
       "      <td>6948.359863</td>\n",
       "      <td>0.000000</td>\n",
       "      <td>1.000000</td>\n",
       "      <td>-7.0</td>\n",
       "      <td>0</td>\n",
       "      <td>0</td>\n",
       "      <td>0</td>\n",
       "    </tr>\n",
       "    <tr>\n",
       "      <th>1</th>\n",
       "      <td>1330831</td>\n",
       "      <td>151639</td>\n",
       "      <td>0.0</td>\n",
       "      <td>34</td>\n",
       "      <td>-2156.0</td>\n",
       "      <td>-2156.0</td>\n",
       "      <td>1716.525024</td>\n",
       "      <td>1716.525024</td>\n",
       "      <td>0.000000</td>\n",
       "      <td>1.000000</td>\n",
       "      <td>0.0</td>\n",
       "      <td>0</td>\n",
       "      <td>0</td>\n",
       "      <td>0</td>\n",
       "    </tr>\n",
       "    <tr>\n",
       "      <th>2</th>\n",
       "      <td>2085231</td>\n",
       "      <td>193053</td>\n",
       "      <td>2.0</td>\n",
       "      <td>1</td>\n",
       "      <td>-63.0</td>\n",
       "      <td>-63.0</td>\n",
       "      <td>25425.000000</td>\n",
       "      <td>25425.000000</td>\n",
       "      <td>0.000000</td>\n",
       "      <td>1.000000</td>\n",
       "      <td>0.0</td>\n",
       "      <td>0</td>\n",
       "      <td>0</td>\n",
       "      <td>0</td>\n",
       "    </tr>\n",
       "    <tr>\n",
       "      <th>3</th>\n",
       "      <td>2452527</td>\n",
       "      <td>199697</td>\n",
       "      <td>1.0</td>\n",
       "      <td>3</td>\n",
       "      <td>-2418.0</td>\n",
       "      <td>-2426.0</td>\n",
       "      <td>24350.130859</td>\n",
       "      <td>24350.130859</td>\n",
       "      <td>0.000000</td>\n",
       "      <td>1.000000</td>\n",
       "      <td>-8.0</td>\n",
       "      <td>0</td>\n",
       "      <td>0</td>\n",
       "      <td>0</td>\n",
       "    </tr>\n",
       "    <tr>\n",
       "      <th>4</th>\n",
       "      <td>2714724</td>\n",
       "      <td>167756</td>\n",
       "      <td>1.0</td>\n",
       "      <td>2</td>\n",
       "      <td>-1383.0</td>\n",
       "      <td>-1366.0</td>\n",
       "      <td>2165.040039</td>\n",
       "      <td>2160.584961</td>\n",
       "      <td>4.455078</td>\n",
       "      <td>0.997943</td>\n",
       "      <td>17.0</td>\n",
       "      <td>1</td>\n",
       "      <td>1</td>\n",
       "      <td>0</td>\n",
       "    </tr>\n",
       "  </tbody>\n",
       "</table>\n",
       "</div>"
      ],
      "text/plain": [
       "   SK_ID_PREV  SK_ID_CURR  NUM_INSTALMENT_VERSION  NUM_INSTALMENT_NUMBER  \\\n",
       "0     1054186      161674                     1.0                      6   \n",
       "1     1330831      151639                     0.0                     34   \n",
       "2     2085231      193053                     2.0                      1   \n",
       "3     2452527      199697                     1.0                      3   \n",
       "4     2714724      167756                     1.0                      2   \n",
       "\n",
       "   DAYS_INSTALMENT  DAYS_ENTRY_PAYMENT  AMT_INSTALMENT   AMT_PAYMENT  \\\n",
       "0          -1180.0             -1187.0     6948.359863   6948.359863   \n",
       "1          -2156.0             -2156.0     1716.525024   1716.525024   \n",
       "2            -63.0               -63.0    25425.000000  25425.000000   \n",
       "3          -2418.0             -2426.0    24350.130859  24350.130859   \n",
       "4          -1383.0             -1366.0     2165.040039   2160.584961   \n",
       "\n",
       "   AMT_DIFF  AMT_RATIO  SK_DPD  INS_IS_DPD  INS_IS_DPD_UNDER_120  \\\n",
       "0  0.000000   1.000000    -7.0           0                     0   \n",
       "1  0.000000   1.000000     0.0           0                     0   \n",
       "2  0.000000   1.000000     0.0           0                     0   \n",
       "3  0.000000   1.000000    -8.0           0                     0   \n",
       "4  4.455078   0.997943    17.0           1                     1   \n",
       "\n",
       "   INS_IS_DPD_OVER_120  \n",
       "0                    0  \n",
       "1                    0  \n",
       "2                    0  \n",
       "3                    0  \n",
       "4                    0  "
      ]
     },
     "execution_count": 103,
     "metadata": {},
     "output_type": "execute_result"
    }
   ],
   "source": [
    "install.head()"
   ]
  },
  {
   "cell_type": "code",
   "execution_count": 104,
   "id": "naval-effectiveness",
   "metadata": {},
   "outputs": [
    {
     "data": {
      "text/html": [
       "<div>\n",
       "<style scoped>\n",
       "    .dataframe tbody tr th:only-of-type {\n",
       "        vertical-align: middle;\n",
       "    }\n",
       "\n",
       "    .dataframe tbody tr th {\n",
       "        vertical-align: top;\n",
       "    }\n",
       "\n",
       "    .dataframe thead th {\n",
       "        text-align: right;\n",
       "    }\n",
       "</style>\n",
       "<table border=\"1\" class=\"dataframe\">\n",
       "  <thead>\n",
       "    <tr style=\"text-align: right;\">\n",
       "      <th></th>\n",
       "      <th>INS_SK_ID_CURR_COUNT</th>\n",
       "      <th>INS_NUM_INSTALMENT_VERSION_NUNIQUE</th>\n",
       "      <th>INS_DAYS_ENTRY_PAYMENT_MEAN</th>\n",
       "      <th>INS_DAYS_ENTRY_PAYMENT_MAX</th>\n",
       "      <th>INS_DAYS_ENTRY_PAYMENT_SUM</th>\n",
       "      <th>INS_DAYS_INSTALMENT_MEAN</th>\n",
       "      <th>INS_DAYS_INSTALMENT_MAX</th>\n",
       "      <th>INS_DAYS_INSTALMENT_SUM</th>\n",
       "      <th>INS_AMT_INSTALMENT_MEAN</th>\n",
       "      <th>INS_AMT_INSTALMENT_MAX</th>\n",
       "      <th>...</th>\n",
       "      <th>INS_AMT_RATIO_MAX</th>\n",
       "      <th>INS_SK_DPD_MEAN</th>\n",
       "      <th>INS_SK_DPD_MIN</th>\n",
       "      <th>INS_SK_DPD_MAX</th>\n",
       "      <th>INS_INS_IS_DPD_MEAN</th>\n",
       "      <th>INS_INS_IS_DPD_SUM</th>\n",
       "      <th>INS_INS_IS_DPD_UNDER_120_MEAN</th>\n",
       "      <th>INS_INS_IS_DPD_UNDER_120_SUM</th>\n",
       "      <th>INS_INS_IS_DPD_OVER_120_MEAN</th>\n",
       "      <th>INS_INS_IS_DPD_OVER_120_SUM</th>\n",
       "    </tr>\n",
       "    <tr>\n",
       "      <th>SK_ID_CURR</th>\n",
       "      <th></th>\n",
       "      <th></th>\n",
       "      <th></th>\n",
       "      <th></th>\n",
       "      <th></th>\n",
       "      <th></th>\n",
       "      <th></th>\n",
       "      <th></th>\n",
       "      <th></th>\n",
       "      <th></th>\n",
       "      <th></th>\n",
       "      <th></th>\n",
       "      <th></th>\n",
       "      <th></th>\n",
       "      <th></th>\n",
       "      <th></th>\n",
       "      <th></th>\n",
       "      <th></th>\n",
       "      <th></th>\n",
       "      <th></th>\n",
       "      <th></th>\n",
       "    </tr>\n",
       "  </thead>\n",
       "  <tbody>\n",
       "    <tr>\n",
       "      <th>100001</th>\n",
       "      <td>7</td>\n",
       "      <td>2</td>\n",
       "      <td>-2195.000000</td>\n",
       "      <td>-1628.0</td>\n",
       "      <td>-15365.0</td>\n",
       "      <td>-2187.714355</td>\n",
       "      <td>-1619.0</td>\n",
       "      <td>-15314.0</td>\n",
       "      <td>5885.132324</td>\n",
       "      <td>17397.900391</td>\n",
       "      <td>...</td>\n",
       "      <td>1.0</td>\n",
       "      <td>-7.285714</td>\n",
       "      <td>-36.0</td>\n",
       "      <td>11.0</td>\n",
       "      <td>0.142857</td>\n",
       "      <td>1</td>\n",
       "      <td>0.142857</td>\n",
       "      <td>1</td>\n",
       "      <td>0.0</td>\n",
       "      <td>0</td>\n",
       "    </tr>\n",
       "    <tr>\n",
       "      <th>100002</th>\n",
       "      <td>19</td>\n",
       "      <td>2</td>\n",
       "      <td>-315.421051</td>\n",
       "      <td>-49.0</td>\n",
       "      <td>-5993.0</td>\n",
       "      <td>-295.000000</td>\n",
       "      <td>-25.0</td>\n",
       "      <td>-5605.0</td>\n",
       "      <td>11559.247070</td>\n",
       "      <td>53093.746094</td>\n",
       "      <td>...</td>\n",
       "      <td>1.0</td>\n",
       "      <td>-20.421053</td>\n",
       "      <td>-31.0</td>\n",
       "      <td>-12.0</td>\n",
       "      <td>0.000000</td>\n",
       "      <td>0</td>\n",
       "      <td>0.000000</td>\n",
       "      <td>0</td>\n",
       "      <td>0.0</td>\n",
       "      <td>0</td>\n",
       "    </tr>\n",
       "    <tr>\n",
       "      <th>100003</th>\n",
       "      <td>25</td>\n",
       "      <td>2</td>\n",
       "      <td>-1385.319946</td>\n",
       "      <td>-544.0</td>\n",
       "      <td>-34633.0</td>\n",
       "      <td>-1378.160034</td>\n",
       "      <td>-536.0</td>\n",
       "      <td>-34454.0</td>\n",
       "      <td>64754.585938</td>\n",
       "      <td>560835.375000</td>\n",
       "      <td>...</td>\n",
       "      <td>1.0</td>\n",
       "      <td>-7.160000</td>\n",
       "      <td>-14.0</td>\n",
       "      <td>-1.0</td>\n",
       "      <td>0.000000</td>\n",
       "      <td>0</td>\n",
       "      <td>0.000000</td>\n",
       "      <td>0</td>\n",
       "      <td>0.0</td>\n",
       "      <td>0</td>\n",
       "    </tr>\n",
       "    <tr>\n",
       "      <th>100004</th>\n",
       "      <td>3</td>\n",
       "      <td>2</td>\n",
       "      <td>-761.666687</td>\n",
       "      <td>-727.0</td>\n",
       "      <td>-2285.0</td>\n",
       "      <td>-754.000000</td>\n",
       "      <td>-724.0</td>\n",
       "      <td>-2262.0</td>\n",
       "      <td>7096.154785</td>\n",
       "      <td>10573.964844</td>\n",
       "      <td>...</td>\n",
       "      <td>1.0</td>\n",
       "      <td>-7.666667</td>\n",
       "      <td>-11.0</td>\n",
       "      <td>-3.0</td>\n",
       "      <td>0.000000</td>\n",
       "      <td>0</td>\n",
       "      <td>0.000000</td>\n",
       "      <td>0</td>\n",
       "      <td>0.0</td>\n",
       "      <td>0</td>\n",
       "    </tr>\n",
       "    <tr>\n",
       "      <th>100005</th>\n",
       "      <td>9</td>\n",
       "      <td>2</td>\n",
       "      <td>-609.555542</td>\n",
       "      <td>-470.0</td>\n",
       "      <td>-5486.0</td>\n",
       "      <td>-586.000000</td>\n",
       "      <td>-466.0</td>\n",
       "      <td>-5274.0</td>\n",
       "      <td>6240.205078</td>\n",
       "      <td>17656.244141</td>\n",
       "      <td>...</td>\n",
       "      <td>1.0</td>\n",
       "      <td>-23.555555</td>\n",
       "      <td>-37.0</td>\n",
       "      <td>1.0</td>\n",
       "      <td>0.111111</td>\n",
       "      <td>1</td>\n",
       "      <td>0.111111</td>\n",
       "      <td>1</td>\n",
       "      <td>0.0</td>\n",
       "      <td>0</td>\n",
       "    </tr>\n",
       "  </tbody>\n",
       "</table>\n",
       "<p>5 rows × 29 columns</p>\n",
       "</div>"
      ],
      "text/plain": [
       "            INS_SK_ID_CURR_COUNT  INS_NUM_INSTALMENT_VERSION_NUNIQUE  \\\n",
       "SK_ID_CURR                                                             \n",
       "100001                         7                                   2   \n",
       "100002                        19                                   2   \n",
       "100003                        25                                   2   \n",
       "100004                         3                                   2   \n",
       "100005                         9                                   2   \n",
       "\n",
       "            INS_DAYS_ENTRY_PAYMENT_MEAN  INS_DAYS_ENTRY_PAYMENT_MAX  \\\n",
       "SK_ID_CURR                                                            \n",
       "100001                     -2195.000000                     -1628.0   \n",
       "100002                      -315.421051                       -49.0   \n",
       "100003                     -1385.319946                      -544.0   \n",
       "100004                      -761.666687                      -727.0   \n",
       "100005                      -609.555542                      -470.0   \n",
       "\n",
       "            INS_DAYS_ENTRY_PAYMENT_SUM  INS_DAYS_INSTALMENT_MEAN  \\\n",
       "SK_ID_CURR                                                         \n",
       "100001                        -15365.0              -2187.714355   \n",
       "100002                         -5993.0               -295.000000   \n",
       "100003                        -34633.0              -1378.160034   \n",
       "100004                         -2285.0               -754.000000   \n",
       "100005                         -5486.0               -586.000000   \n",
       "\n",
       "            INS_DAYS_INSTALMENT_MAX  INS_DAYS_INSTALMENT_SUM  \\\n",
       "SK_ID_CURR                                                     \n",
       "100001                      -1619.0                 -15314.0   \n",
       "100002                        -25.0                  -5605.0   \n",
       "100003                       -536.0                 -34454.0   \n",
       "100004                       -724.0                  -2262.0   \n",
       "100005                       -466.0                  -5274.0   \n",
       "\n",
       "            INS_AMT_INSTALMENT_MEAN  INS_AMT_INSTALMENT_MAX  ...  \\\n",
       "SK_ID_CURR                                                   ...   \n",
       "100001                  5885.132324            17397.900391  ...   \n",
       "100002                 11559.247070            53093.746094  ...   \n",
       "100003                 64754.585938           560835.375000  ...   \n",
       "100004                  7096.154785            10573.964844  ...   \n",
       "100005                  6240.205078            17656.244141  ...   \n",
       "\n",
       "            INS_AMT_RATIO_MAX  INS_SK_DPD_MEAN  INS_SK_DPD_MIN  \\\n",
       "SK_ID_CURR                                                       \n",
       "100001                    1.0        -7.285714           -36.0   \n",
       "100002                    1.0       -20.421053           -31.0   \n",
       "100003                    1.0        -7.160000           -14.0   \n",
       "100004                    1.0        -7.666667           -11.0   \n",
       "100005                    1.0       -23.555555           -37.0   \n",
       "\n",
       "            INS_SK_DPD_MAX  INS_INS_IS_DPD_MEAN  INS_INS_IS_DPD_SUM  \\\n",
       "SK_ID_CURR                                                            \n",
       "100001                11.0             0.142857                   1   \n",
       "100002               -12.0             0.000000                   0   \n",
       "100003                -1.0             0.000000                   0   \n",
       "100004                -3.0             0.000000                   0   \n",
       "100005                 1.0             0.111111                   1   \n",
       "\n",
       "            INS_INS_IS_DPD_UNDER_120_MEAN  INS_INS_IS_DPD_UNDER_120_SUM  \\\n",
       "SK_ID_CURR                                                                \n",
       "100001                           0.142857                             1   \n",
       "100002                           0.000000                             0   \n",
       "100003                           0.000000                             0   \n",
       "100004                           0.000000                             0   \n",
       "100005                           0.111111                             1   \n",
       "\n",
       "            INS_INS_IS_DPD_OVER_120_MEAN  INS_INS_IS_DPD_OVER_120_SUM  \n",
       "SK_ID_CURR                                                             \n",
       "100001                               0.0                            0  \n",
       "100002                               0.0                            0  \n",
       "100003                               0.0                            0  \n",
       "100004                               0.0                            0  \n",
       "100005                               0.0                            0  \n",
       "\n",
       "[5 rows x 29 columns]"
      ]
     },
     "execution_count": 104,
     "metadata": {},
     "output_type": "execute_result"
    }
   ],
   "source": [
    "install_grp = install.groupby('SK_ID_CURR')\n",
    "\n",
    "install_agg_dict = {\n",
    "    # original columns\n",
    "    'SK_ID_CURR':['count'],\n",
    "    'NUM_INSTALMENT_VERSION':['nunique'], \n",
    "    'DAYS_ENTRY_PAYMENT':['mean', 'max', 'sum'],\n",
    "    'DAYS_INSTALMENT':['mean', 'max', 'sum'],\n",
    "    'AMT_INSTALMENT':['mean', 'max', 'sum'],\n",
    "    'AMT_PAYMENT':['mean', 'max','sum'],\n",
    "    # newly added columns\n",
    "    'AMT_DIFF':['mean','min', 'max','sum'],\n",
    "    'AMT_RATIO':['mean', 'max'],\n",
    "    'SK_DPD':['mean', 'min', 'max'],\n",
    "    'INS_IS_DPD':['mean', 'sum'],\n",
    "    'INS_IS_DPD_UNDER_120':['mean', 'sum'],\n",
    "    'INS_IS_DPD_OVER_120':['mean', 'sum'] \n",
    "}\n",
    "# SK_ID_CURR level aggregation\n",
    "install_agg = install_grp.agg(install_agg_dict)\n",
    "# column name change\n",
    "install_agg.columns = ['INS_'+'_'.join(column).upper() for column in install_agg.columns]\n",
    "install_agg.head()"
   ]
  },
  {
   "cell_type": "markdown",
   "id": "organic-norfolk",
   "metadata": {},
   "source": [
    "#### Additional Aggregation for the cases of (DAYS_ENTRY_PAYMENT)>=-365 (MORE recent cases)"
   ]
  },
  {
   "cell_type": "code",
   "execution_count": 106,
   "id": "distant-lodging",
   "metadata": {},
   "outputs": [
    {
     "data": {
      "text/html": [
       "<div>\n",
       "<style scoped>\n",
       "    .dataframe tbody tr th:only-of-type {\n",
       "        vertical-align: middle;\n",
       "    }\n",
       "\n",
       "    .dataframe tbody tr th {\n",
       "        vertical-align: top;\n",
       "    }\n",
       "\n",
       "    .dataframe thead th {\n",
       "        text-align: right;\n",
       "    }\n",
       "</style>\n",
       "<table border=\"1\" class=\"dataframe\">\n",
       "  <thead>\n",
       "    <tr style=\"text-align: right;\">\n",
       "      <th></th>\n",
       "      <th>INS_SK_ID_CURR_COUNT</th>\n",
       "      <th>INS_NUM_INSTALMENT_VERSION_NUNIQUE</th>\n",
       "      <th>INS_DAYS_ENTRY_PAYMENT_MEAN</th>\n",
       "      <th>INS_DAYS_ENTRY_PAYMENT_MAX</th>\n",
       "      <th>INS_DAYS_ENTRY_PAYMENT_SUM</th>\n",
       "      <th>INS_DAYS_INSTALMENT_MEAN</th>\n",
       "      <th>INS_DAYS_INSTALMENT_MAX</th>\n",
       "      <th>INS_DAYS_INSTALMENT_SUM</th>\n",
       "      <th>INS_AMT_INSTALMENT_MEAN</th>\n",
       "      <th>INS_AMT_INSTALMENT_MAX</th>\n",
       "      <th>...</th>\n",
       "      <th>INS_AMT_RATIO_MAX</th>\n",
       "      <th>INS_SK_DPD_MEAN</th>\n",
       "      <th>INS_SK_DPD_MIN</th>\n",
       "      <th>INS_SK_DPD_MAX</th>\n",
       "      <th>INS_INS_IS_DPD_MEAN</th>\n",
       "      <th>INS_INS_IS_DPD_SUM</th>\n",
       "      <th>INS_INS_IS_DPD_UNDER_120_MEAN</th>\n",
       "      <th>INS_INS_IS_DPD_UNDER_120_SUM</th>\n",
       "      <th>INS_INS_IS_DPD_OVER_120_MEAN</th>\n",
       "      <th>INS_INS_IS_DPD_OVER_120_SUM</th>\n",
       "    </tr>\n",
       "    <tr>\n",
       "      <th>SK_ID_CURR</th>\n",
       "      <th></th>\n",
       "      <th></th>\n",
       "      <th></th>\n",
       "      <th></th>\n",
       "      <th></th>\n",
       "      <th></th>\n",
       "      <th></th>\n",
       "      <th></th>\n",
       "      <th></th>\n",
       "      <th></th>\n",
       "      <th></th>\n",
       "      <th></th>\n",
       "      <th></th>\n",
       "      <th></th>\n",
       "      <th></th>\n",
       "      <th></th>\n",
       "      <th></th>\n",
       "      <th></th>\n",
       "      <th></th>\n",
       "      <th></th>\n",
       "      <th></th>\n",
       "    </tr>\n",
       "  </thead>\n",
       "  <tbody>\n",
       "    <tr>\n",
       "      <th>100001</th>\n",
       "      <td>7</td>\n",
       "      <td>2</td>\n",
       "      <td>-2195.000000</td>\n",
       "      <td>-1628.0</td>\n",
       "      <td>-15365.0</td>\n",
       "      <td>-2187.714355</td>\n",
       "      <td>-1619.0</td>\n",
       "      <td>-15314.0</td>\n",
       "      <td>5885.132324</td>\n",
       "      <td>17397.900391</td>\n",
       "      <td>...</td>\n",
       "      <td>1.0</td>\n",
       "      <td>-7.285714</td>\n",
       "      <td>-36.0</td>\n",
       "      <td>11.0</td>\n",
       "      <td>0.142857</td>\n",
       "      <td>1</td>\n",
       "      <td>0.142857</td>\n",
       "      <td>1</td>\n",
       "      <td>0.0</td>\n",
       "      <td>0</td>\n",
       "    </tr>\n",
       "    <tr>\n",
       "      <th>100002</th>\n",
       "      <td>19</td>\n",
       "      <td>2</td>\n",
       "      <td>-315.421051</td>\n",
       "      <td>-49.0</td>\n",
       "      <td>-5993.0</td>\n",
       "      <td>-295.000000</td>\n",
       "      <td>-25.0</td>\n",
       "      <td>-5605.0</td>\n",
       "      <td>11559.247070</td>\n",
       "      <td>53093.746094</td>\n",
       "      <td>...</td>\n",
       "      <td>1.0</td>\n",
       "      <td>-20.421053</td>\n",
       "      <td>-31.0</td>\n",
       "      <td>-12.0</td>\n",
       "      <td>0.000000</td>\n",
       "      <td>0</td>\n",
       "      <td>0.000000</td>\n",
       "      <td>0</td>\n",
       "      <td>0.0</td>\n",
       "      <td>0</td>\n",
       "    </tr>\n",
       "    <tr>\n",
       "      <th>100003</th>\n",
       "      <td>25</td>\n",
       "      <td>2</td>\n",
       "      <td>-1385.319946</td>\n",
       "      <td>-544.0</td>\n",
       "      <td>-34633.0</td>\n",
       "      <td>-1378.160034</td>\n",
       "      <td>-536.0</td>\n",
       "      <td>-34454.0</td>\n",
       "      <td>64754.585938</td>\n",
       "      <td>560835.375000</td>\n",
       "      <td>...</td>\n",
       "      <td>1.0</td>\n",
       "      <td>-7.160000</td>\n",
       "      <td>-14.0</td>\n",
       "      <td>-1.0</td>\n",
       "      <td>0.000000</td>\n",
       "      <td>0</td>\n",
       "      <td>0.000000</td>\n",
       "      <td>0</td>\n",
       "      <td>0.0</td>\n",
       "      <td>0</td>\n",
       "    </tr>\n",
       "    <tr>\n",
       "      <th>100004</th>\n",
       "      <td>3</td>\n",
       "      <td>2</td>\n",
       "      <td>-761.666687</td>\n",
       "      <td>-727.0</td>\n",
       "      <td>-2285.0</td>\n",
       "      <td>-754.000000</td>\n",
       "      <td>-724.0</td>\n",
       "      <td>-2262.0</td>\n",
       "      <td>7096.154785</td>\n",
       "      <td>10573.964844</td>\n",
       "      <td>...</td>\n",
       "      <td>1.0</td>\n",
       "      <td>-7.666667</td>\n",
       "      <td>-11.0</td>\n",
       "      <td>-3.0</td>\n",
       "      <td>0.000000</td>\n",
       "      <td>0</td>\n",
       "      <td>0.000000</td>\n",
       "      <td>0</td>\n",
       "      <td>0.0</td>\n",
       "      <td>0</td>\n",
       "    </tr>\n",
       "    <tr>\n",
       "      <th>100005</th>\n",
       "      <td>9</td>\n",
       "      <td>2</td>\n",
       "      <td>-609.555542</td>\n",
       "      <td>-470.0</td>\n",
       "      <td>-5486.0</td>\n",
       "      <td>-586.000000</td>\n",
       "      <td>-466.0</td>\n",
       "      <td>-5274.0</td>\n",
       "      <td>6240.205078</td>\n",
       "      <td>17656.244141</td>\n",
       "      <td>...</td>\n",
       "      <td>1.0</td>\n",
       "      <td>-23.555555</td>\n",
       "      <td>-37.0</td>\n",
       "      <td>1.0</td>\n",
       "      <td>0.111111</td>\n",
       "      <td>1</td>\n",
       "      <td>0.111111</td>\n",
       "      <td>1</td>\n",
       "      <td>0.0</td>\n",
       "      <td>0</td>\n",
       "    </tr>\n",
       "  </tbody>\n",
       "</table>\n",
       "<p>5 rows × 29 columns</p>\n",
       "</div>"
      ],
      "text/plain": [
       "            INS_SK_ID_CURR_COUNT  INS_NUM_INSTALMENT_VERSION_NUNIQUE  \\\n",
       "SK_ID_CURR                                                             \n",
       "100001                         7                                   2   \n",
       "100002                        19                                   2   \n",
       "100003                        25                                   2   \n",
       "100004                         3                                   2   \n",
       "100005                         9                                   2   \n",
       "\n",
       "            INS_DAYS_ENTRY_PAYMENT_MEAN  INS_DAYS_ENTRY_PAYMENT_MAX  \\\n",
       "SK_ID_CURR                                                            \n",
       "100001                     -2195.000000                     -1628.0   \n",
       "100002                      -315.421051                       -49.0   \n",
       "100003                     -1385.319946                      -544.0   \n",
       "100004                      -761.666687                      -727.0   \n",
       "100005                      -609.555542                      -470.0   \n",
       "\n",
       "            INS_DAYS_ENTRY_PAYMENT_SUM  INS_DAYS_INSTALMENT_MEAN  \\\n",
       "SK_ID_CURR                                                         \n",
       "100001                        -15365.0              -2187.714355   \n",
       "100002                         -5993.0               -295.000000   \n",
       "100003                        -34633.0              -1378.160034   \n",
       "100004                         -2285.0               -754.000000   \n",
       "100005                         -5486.0               -586.000000   \n",
       "\n",
       "            INS_DAYS_INSTALMENT_MAX  INS_DAYS_INSTALMENT_SUM  \\\n",
       "SK_ID_CURR                                                     \n",
       "100001                      -1619.0                 -15314.0   \n",
       "100002                        -25.0                  -5605.0   \n",
       "100003                       -536.0                 -34454.0   \n",
       "100004                       -724.0                  -2262.0   \n",
       "100005                       -466.0                  -5274.0   \n",
       "\n",
       "            INS_AMT_INSTALMENT_MEAN  INS_AMT_INSTALMENT_MAX  ...  \\\n",
       "SK_ID_CURR                                                   ...   \n",
       "100001                  5885.132324            17397.900391  ...   \n",
       "100002                 11559.247070            53093.746094  ...   \n",
       "100003                 64754.585938           560835.375000  ...   \n",
       "100004                  7096.154785            10573.964844  ...   \n",
       "100005                  6240.205078            17656.244141  ...   \n",
       "\n",
       "            INS_AMT_RATIO_MAX  INS_SK_DPD_MEAN  INS_SK_DPD_MIN  \\\n",
       "SK_ID_CURR                                                       \n",
       "100001                    1.0        -7.285714           -36.0   \n",
       "100002                    1.0       -20.421053           -31.0   \n",
       "100003                    1.0        -7.160000           -14.0   \n",
       "100004                    1.0        -7.666667           -11.0   \n",
       "100005                    1.0       -23.555555           -37.0   \n",
       "\n",
       "            INS_SK_DPD_MAX  INS_INS_IS_DPD_MEAN  INS_INS_IS_DPD_SUM  \\\n",
       "SK_ID_CURR                                                            \n",
       "100001                11.0             0.142857                   1   \n",
       "100002               -12.0             0.000000                   0   \n",
       "100003                -1.0             0.000000                   0   \n",
       "100004                -3.0             0.000000                   0   \n",
       "100005                 1.0             0.111111                   1   \n",
       "\n",
       "            INS_INS_IS_DPD_UNDER_120_MEAN  INS_INS_IS_DPD_UNDER_120_SUM  \\\n",
       "SK_ID_CURR                                                                \n",
       "100001                           0.142857                             1   \n",
       "100002                           0.000000                             0   \n",
       "100003                           0.000000                             0   \n",
       "100004                           0.000000                             0   \n",
       "100005                           0.111111                             1   \n",
       "\n",
       "            INS_INS_IS_DPD_OVER_120_MEAN  INS_INS_IS_DPD_OVER_120_SUM  \n",
       "SK_ID_CURR                                                             \n",
       "100001                               0.0                            0  \n",
       "100002                               0.0                            0  \n",
       "100003                               0.0                            0  \n",
       "100004                               0.0                            0  \n",
       "100005                               0.0                            0  \n",
       "\n",
       "[5 rows x 29 columns]"
      ]
     },
     "execution_count": 106,
     "metadata": {},
     "output_type": "execute_result"
    }
   ],
   "source": [
    "cond_day = install['DAYS_ENTRY_PAYMENT']>=-365\n",
    "install_d365_grp = install[cond_day].groupby('SK_ID_CURR')\n",
    "install_d365_agg_dict = {\n",
    "    # origianl columns\n",
    "    'SK_ID_CURR':['count'],\n",
    "    'NUM_INSTALMENT_VERSION':['nunique'], \n",
    "    'DAYS_ENTRY_PAYMENT':['mean', 'max', 'sum'],\n",
    "    'DAYS_INSTALMENT':['mean', 'max', 'sum'],\n",
    "    'AMT_INSTALMENT':['mean', 'max', 'sum'],\n",
    "    'AMT_PAYMENT':['mean', 'max','sum'],\n",
    "    # additional columns\n",
    "    'AMT_DIFF':['mean','min', 'max','sum'],\n",
    "    'AMT_RATIO':['mean', 'max'],\n",
    "    'SK_DPD':['mean', 'min', 'max'],\n",
    "    'INS_IS_DPD':['mean', 'sum'],\n",
    "    'INS_IS_DPD_UNDER_120':['mean', 'sum'],\n",
    "    'INS_IS_DPD_OVER_120':['mean', 'sum']    \n",
    "}\n",
    "# SK_ID_CURR level aggregation\n",
    "install_d365_agg = install_grp.agg(install_d365_agg_dict)\n",
    "# column name change\n",
    "install_d365_agg.columns = ['INS_'+'_'.join(column).upper() for column in install_d365_agg.columns]\n",
    "install_d365_agg.head()"
   ]
  },
  {
   "cell_type": "markdown",
   "id": "contrary-turkey",
   "metadata": {},
   "source": [
    "#### Merge install_agg and install_d365_agg, reset_index() to make SK_ID_CURR as a column"
   ]
  },
  {
   "cell_type": "code",
   "execution_count": 107,
   "id": "comic-quick",
   "metadata": {},
   "outputs": [
    {
     "data": {
      "text/plain": [
       "(339587, 59)"
      ]
     },
     "execution_count": 107,
     "metadata": {},
     "output_type": "execute_result"
    }
   ],
   "source": [
    "install_agg = install_agg.merge(install_d365_agg, on = 'SK_ID_CURR', how='left')\n",
    "install_agg = install_agg.reset_index()\n",
    "install_agg.shape"
   ]
  },
  {
   "cell_type": "markdown",
   "id": "suited-shoot",
   "metadata": {},
   "source": [
    "### credit_card_balance dataset processing\n",
    "- Balance, drawing amount, based on credit limit (monthly)"
   ]
  },
  {
   "cell_type": "code",
   "execution_count": 109,
   "id": "classical-associate",
   "metadata": {},
   "outputs": [
    {
     "data": {
      "text/plain": [
       "SK_ID_PREV                         0\n",
       "SK_ID_CURR                         0\n",
       "MONTHS_BALANCE                     0\n",
       "AMT_BALANCE                        0\n",
       "AMT_CREDIT_LIMIT_ACTUAL            0\n",
       "AMT_DRAWINGS_ATM_CURRENT      749816\n",
       "AMT_DRAWINGS_CURRENT               0\n",
       "AMT_DRAWINGS_OTHER_CURRENT    749816\n",
       "AMT_DRAWINGS_POS_CURRENT      749816\n",
       "AMT_INST_MIN_REGULARITY       305236\n",
       "AMT_PAYMENT_CURRENT           767988\n",
       "AMT_PAYMENT_TOTAL_CURRENT          0\n",
       "AMT_RECEIVABLE_PRINCIPAL           0\n",
       "AMT_RECIVABLE                      0\n",
       "AMT_TOTAL_RECEIVABLE               0\n",
       "CNT_DRAWINGS_ATM_CURRENT      749816\n",
       "CNT_DRAWINGS_CURRENT               0\n",
       "CNT_DRAWINGS_OTHER_CURRENT    749816\n",
       "CNT_DRAWINGS_POS_CURRENT      749816\n",
       "CNT_INSTALMENT_MATURE_CUM     305236\n",
       "NAME_CONTRACT_STATUS               0\n",
       "SK_DPD                             0\n",
       "SK_DPD_DEF                         0\n",
       "dtype: int64"
      ]
     },
     "execution_count": 109,
     "metadata": {},
     "output_type": "execute_result"
    }
   ],
   "source": [
    "card_bal.isnull().sum()"
   ]
  },
  {
   "cell_type": "code",
   "execution_count": 110,
   "id": "instrumental-blond",
   "metadata": {},
   "outputs": [
    {
     "data": {
      "text/plain": [
       "(3840312, 23)"
      ]
     },
     "execution_count": 110,
     "metadata": {},
     "output_type": "execute_result"
    }
   ],
   "source": [
    "card_bal.shape"
   ]
  },
  {
   "cell_type": "markdown",
   "id": "instrumental-korea",
   "metadata": {},
   "source": [
    "### balnce and drawing amount  to credit limit ratio"
   ]
  },
  {
   "cell_type": "code",
   "execution_count": 111,
   "id": "pointed-angle",
   "metadata": {},
   "outputs": [],
   "source": [
    "card_bal['BALANCE_LIMIT_RATIO'] = card_bal['AMT_BALANCE']/card_bal['AMT_CREDIT_LIMIT_ACTUAL']\n",
    "card_bal['DRAWING_LIMIT_RATIO'] = card_bal['AMT_DRAWINGS_CURRENT']/card_bal['AMT_CREDIT_LIMIT_ACTUAL']"
   ]
  },
  {
   "cell_type": "markdown",
   "id": "regulation-saskatchewan",
   "metadata": {},
   "source": [
    "#### Additional columns based on DPD"
   ]
  },
  {
   "cell_type": "code",
   "execution_count": 112,
   "id": "lasting-foster",
   "metadata": {},
   "outputs": [
    {
     "name": "stdout",
     "output_type": "stream",
     "text": [
      " DPD ratio       : 0.039932953364205825\n",
      " DPD < 30 ratio  : 0.025626303279525205\n",
      " 30 < DPD < 120  : 0.0022019044285985097\n",
      " DPD > 120       : 0.01210474565608211\n"
     ]
    }
   ],
   "source": [
    "cond_over_0 = card_bal['SK_DPD'] > 0\n",
    "cond_over_0_30 = (card_bal['SK_DPD'] <= 30) & (card_bal['SK_DPD'] > 0)\n",
    "cond_over_30_120 = (card_bal['SK_DPD'] < 120) & (card_bal['SK_DPD'] > 30)\n",
    "cond_over_120 = (card_bal['SK_DPD'] >= 120)\n",
    "\n",
    "print(' DPD ratio       :', card_bal[cond_over_0].shape[0]/card_bal.shape[0] )\n",
    "print(' DPD < 30 ratio  :', card_bal[cond_over_0_30].shape[0]/card_bal.shape[0] )\n",
    "print(' 30 < DPD < 120  :', card_bal[cond_over_30_120].shape[0]/card_bal.shape[0] )\n",
    "print(' DPD > 120       :', card_bal[cond_over_120].shape[0]/card_bal.shape[0] )"
   ]
  },
  {
   "cell_type": "code",
   "execution_count": 113,
   "id": "indoor-details",
   "metadata": {},
   "outputs": [],
   "source": [
    "# IS DPD? DPD < 120?, DPD > 120?\n",
    "card_bal['CARD_IS_DPD'] = card_bal['SK_DPD'].apply(lambda x: 1 if x>0 else 0)\n",
    "card_bal['CARD_IS_DPD_UNDER_120'] = card_bal['SK_DPD'].apply(lambda x: 1 if (x>0) & (x<120) else 0)\n",
    "card_bal['CARD_IS_DPD_OVER_120'] = card_bal['SK_DPD'].apply(lambda x : 1 if x>=120 else 0) "
   ]
  },
  {
   "cell_type": "code",
   "execution_count": 114,
   "id": "solar-carnival",
   "metadata": {},
   "outputs": [
    {
     "data": {
      "text/html": [
       "<div>\n",
       "<style scoped>\n",
       "    .dataframe tbody tr th:only-of-type {\n",
       "        vertical-align: middle;\n",
       "    }\n",
       "\n",
       "    .dataframe tbody tr th {\n",
       "        vertical-align: top;\n",
       "    }\n",
       "\n",
       "    .dataframe thead th {\n",
       "        text-align: right;\n",
       "    }\n",
       "</style>\n",
       "<table border=\"1\" class=\"dataframe\">\n",
       "  <thead>\n",
       "    <tr style=\"text-align: right;\">\n",
       "      <th></th>\n",
       "      <th>SK_ID_PREV</th>\n",
       "      <th>SK_ID_CURR</th>\n",
       "      <th>MONTHS_BALANCE</th>\n",
       "      <th>AMT_BALANCE</th>\n",
       "      <th>AMT_CREDIT_LIMIT_ACTUAL</th>\n",
       "      <th>AMT_DRAWINGS_ATM_CURRENT</th>\n",
       "      <th>AMT_DRAWINGS_CURRENT</th>\n",
       "      <th>AMT_DRAWINGS_OTHER_CURRENT</th>\n",
       "      <th>AMT_DRAWINGS_POS_CURRENT</th>\n",
       "      <th>AMT_INST_MIN_REGULARITY</th>\n",
       "      <th>...</th>\n",
       "      <th>CNT_DRAWINGS_POS_CURRENT</th>\n",
       "      <th>CNT_INSTALMENT_MATURE_CUM</th>\n",
       "      <th>NAME_CONTRACT_STATUS</th>\n",
       "      <th>SK_DPD</th>\n",
       "      <th>SK_DPD_DEF</th>\n",
       "      <th>BALANCE_LIMIT_RATIO</th>\n",
       "      <th>DRAWING_LIMIT_RATIO</th>\n",
       "      <th>CARD_IS_DPD</th>\n",
       "      <th>CARD_IS_DPD_UNDER_120</th>\n",
       "      <th>CARD_IS_DPD_OVER_120</th>\n",
       "    </tr>\n",
       "  </thead>\n",
       "  <tbody>\n",
       "    <tr>\n",
       "      <th>0</th>\n",
       "      <td>2562384</td>\n",
       "      <td>378907</td>\n",
       "      <td>-6</td>\n",
       "      <td>56.970001</td>\n",
       "      <td>135000</td>\n",
       "      <td>0.0</td>\n",
       "      <td>877.5</td>\n",
       "      <td>0.0</td>\n",
       "      <td>877.5</td>\n",
       "      <td>1700.324951</td>\n",
       "      <td>...</td>\n",
       "      <td>1.0</td>\n",
       "      <td>35.0</td>\n",
       "      <td>Active</td>\n",
       "      <td>0</td>\n",
       "      <td>0</td>\n",
       "      <td>0.000422</td>\n",
       "      <td>0.00650</td>\n",
       "      <td>0</td>\n",
       "      <td>0</td>\n",
       "      <td>0</td>\n",
       "    </tr>\n",
       "    <tr>\n",
       "      <th>1</th>\n",
       "      <td>2582071</td>\n",
       "      <td>363914</td>\n",
       "      <td>-1</td>\n",
       "      <td>63975.554688</td>\n",
       "      <td>45000</td>\n",
       "      <td>2250.0</td>\n",
       "      <td>2250.0</td>\n",
       "      <td>0.0</td>\n",
       "      <td>0.0</td>\n",
       "      <td>2250.000000</td>\n",
       "      <td>...</td>\n",
       "      <td>0.0</td>\n",
       "      <td>69.0</td>\n",
       "      <td>Active</td>\n",
       "      <td>0</td>\n",
       "      <td>0</td>\n",
       "      <td>1.421679</td>\n",
       "      <td>0.05000</td>\n",
       "      <td>0</td>\n",
       "      <td>0</td>\n",
       "      <td>0</td>\n",
       "    </tr>\n",
       "    <tr>\n",
       "      <th>2</th>\n",
       "      <td>1740877</td>\n",
       "      <td>371185</td>\n",
       "      <td>-7</td>\n",
       "      <td>31815.224609</td>\n",
       "      <td>450000</td>\n",
       "      <td>0.0</td>\n",
       "      <td>0.0</td>\n",
       "      <td>0.0</td>\n",
       "      <td>0.0</td>\n",
       "      <td>2250.000000</td>\n",
       "      <td>...</td>\n",
       "      <td>0.0</td>\n",
       "      <td>30.0</td>\n",
       "      <td>Active</td>\n",
       "      <td>0</td>\n",
       "      <td>0</td>\n",
       "      <td>0.070700</td>\n",
       "      <td>0.00000</td>\n",
       "      <td>0</td>\n",
       "      <td>0</td>\n",
       "      <td>0</td>\n",
       "    </tr>\n",
       "    <tr>\n",
       "      <th>3</th>\n",
       "      <td>1389973</td>\n",
       "      <td>337855</td>\n",
       "      <td>-4</td>\n",
       "      <td>236572.109375</td>\n",
       "      <td>225000</td>\n",
       "      <td>2250.0</td>\n",
       "      <td>2250.0</td>\n",
       "      <td>0.0</td>\n",
       "      <td>0.0</td>\n",
       "      <td>11795.759766</td>\n",
       "      <td>...</td>\n",
       "      <td>0.0</td>\n",
       "      <td>10.0</td>\n",
       "      <td>Active</td>\n",
       "      <td>0</td>\n",
       "      <td>0</td>\n",
       "      <td>1.051432</td>\n",
       "      <td>0.01000</td>\n",
       "      <td>0</td>\n",
       "      <td>0</td>\n",
       "      <td>0</td>\n",
       "    </tr>\n",
       "    <tr>\n",
       "      <th>4</th>\n",
       "      <td>1891521</td>\n",
       "      <td>126868</td>\n",
       "      <td>-1</td>\n",
       "      <td>453919.468750</td>\n",
       "      <td>450000</td>\n",
       "      <td>0.0</td>\n",
       "      <td>11547.0</td>\n",
       "      <td>0.0</td>\n",
       "      <td>11547.0</td>\n",
       "      <td>22924.890625</td>\n",
       "      <td>...</td>\n",
       "      <td>1.0</td>\n",
       "      <td>101.0</td>\n",
       "      <td>Active</td>\n",
       "      <td>0</td>\n",
       "      <td>0</td>\n",
       "      <td>1.008710</td>\n",
       "      <td>0.02566</td>\n",
       "      <td>0</td>\n",
       "      <td>0</td>\n",
       "      <td>0</td>\n",
       "    </tr>\n",
       "  </tbody>\n",
       "</table>\n",
       "<p>5 rows × 28 columns</p>\n",
       "</div>"
      ],
      "text/plain": [
       "   SK_ID_PREV  SK_ID_CURR  MONTHS_BALANCE    AMT_BALANCE  \\\n",
       "0     2562384      378907              -6      56.970001   \n",
       "1     2582071      363914              -1   63975.554688   \n",
       "2     1740877      371185              -7   31815.224609   \n",
       "3     1389973      337855              -4  236572.109375   \n",
       "4     1891521      126868              -1  453919.468750   \n",
       "\n",
       "   AMT_CREDIT_LIMIT_ACTUAL  AMT_DRAWINGS_ATM_CURRENT  AMT_DRAWINGS_CURRENT  \\\n",
       "0                   135000                       0.0                 877.5   \n",
       "1                    45000                    2250.0                2250.0   \n",
       "2                   450000                       0.0                   0.0   \n",
       "3                   225000                    2250.0                2250.0   \n",
       "4                   450000                       0.0               11547.0   \n",
       "\n",
       "   AMT_DRAWINGS_OTHER_CURRENT  AMT_DRAWINGS_POS_CURRENT  \\\n",
       "0                         0.0                     877.5   \n",
       "1                         0.0                       0.0   \n",
       "2                         0.0                       0.0   \n",
       "3                         0.0                       0.0   \n",
       "4                         0.0                   11547.0   \n",
       "\n",
       "   AMT_INST_MIN_REGULARITY  ...  CNT_DRAWINGS_POS_CURRENT  \\\n",
       "0              1700.324951  ...                       1.0   \n",
       "1              2250.000000  ...                       0.0   \n",
       "2              2250.000000  ...                       0.0   \n",
       "3             11795.759766  ...                       0.0   \n",
       "4             22924.890625  ...                       1.0   \n",
       "\n",
       "   CNT_INSTALMENT_MATURE_CUM  NAME_CONTRACT_STATUS  SK_DPD  SK_DPD_DEF  \\\n",
       "0                       35.0                Active       0           0   \n",
       "1                       69.0                Active       0           0   \n",
       "2                       30.0                Active       0           0   \n",
       "3                       10.0                Active       0           0   \n",
       "4                      101.0                Active       0           0   \n",
       "\n",
       "   BALANCE_LIMIT_RATIO  DRAWING_LIMIT_RATIO  CARD_IS_DPD  \\\n",
       "0             0.000422              0.00650            0   \n",
       "1             1.421679              0.05000            0   \n",
       "2             0.070700              0.00000            0   \n",
       "3             1.051432              0.01000            0   \n",
       "4             1.008710              0.02566            0   \n",
       "\n",
       "   CARD_IS_DPD_UNDER_120  CARD_IS_DPD_OVER_120  \n",
       "0                      0                     0  \n",
       "1                      0                     0  \n",
       "2                      0                     0  \n",
       "3                      0                     0  \n",
       "4                      0                     0  \n",
       "\n",
       "[5 rows x 28 columns]"
      ]
     },
     "execution_count": 114,
     "metadata": {},
     "output_type": "execute_result"
    }
   ],
   "source": [
    "card_bal.head()"
   ]
  },
  {
   "cell_type": "code",
   "execution_count": 115,
   "id": "administrative-singapore",
   "metadata": {},
   "outputs": [],
   "source": [
    "card_bal_grp = card_bal.groupby('SK_ID_CURR')\n",
    "card_bal_agg_dict = {\n",
    "    # origianl columns\n",
    "    'SK_ID_CURR':['count'],\n",
    "     #'MONTHS_BALANCE':['min', 'max', 'mean'],\n",
    "    'AMT_BALANCE':['max'],\n",
    "    'AMT_CREDIT_LIMIT_ACTUAL':['max'],\n",
    "    'AMT_DRAWINGS_ATM_CURRENT': ['max', 'sum'],\n",
    "    'AMT_DRAWINGS_CURRENT': ['max', 'sum'],\n",
    "    'AMT_DRAWINGS_POS_CURRENT': ['max', 'sum'],\n",
    "    'AMT_INST_MIN_REGULARITY': ['max', 'mean'],\n",
    "    'AMT_PAYMENT_TOTAL_CURRENT': ['max','sum'],\n",
    "    'AMT_TOTAL_RECEIVABLE': ['max', 'mean'],\n",
    "    'CNT_DRAWINGS_ATM_CURRENT': ['max','sum'],\n",
    "    'CNT_DRAWINGS_CURRENT': ['max', 'mean', 'sum'],\n",
    "    'CNT_DRAWINGS_POS_CURRENT': ['mean'],\n",
    "    'SK_DPD': ['mean', 'max', 'sum'],\n",
    "    #  newly added columns\n",
    "    'BALANCE_LIMIT_RATIO':['min','max'],\n",
    "    'DRAWING_LIMIT_RATIO':['min', 'max'],\n",
    "    'CARD_IS_DPD':['mean', 'sum'],\n",
    "    'CARD_IS_DPD_UNDER_120':['mean', 'sum'],\n",
    "    'CARD_IS_DPD_OVER_120':['mean', 'sum']    \n",
    "}\n",
    "\n",
    "card_bal_agg = card_bal_grp.agg(card_bal_agg_dict)\n",
    "card_bal_agg.columns = ['CARD_'+'_'.join(column).upper() for column in card_bal_agg.columns]"
   ]
  },
  {
   "cell_type": "markdown",
   "id": "incorporated-clearance",
   "metadata": {},
   "source": [
    "#### Separately process Recent data 'MONTHS_BALANCE'>= -3"
   ]
  },
  {
   "cell_type": "code",
   "execution_count": 116,
   "id": "clear-nightmare",
   "metadata": {},
   "outputs": [],
   "source": [
    "cond_month = card_bal['MONTHS_BALANCE'] >= -3\n",
    "card_bal_m3_grp = card_bal[cond_month].groupby('SK_ID_CURR')\n",
    "card_bal_agg_dict = {\n",
    "    # origianl columns\n",
    "    'SK_ID_CURR':['count'],\n",
    "     #'MONTHS_BALANCE':['min', 'max', 'mean'],\n",
    "    'AMT_BALANCE':['max'],\n",
    "    'AMT_CREDIT_LIMIT_ACTUAL':['max'],\n",
    "    'AMT_DRAWINGS_ATM_CURRENT': ['max', 'sum'],\n",
    "    'AMT_DRAWINGS_CURRENT': ['max', 'sum'],\n",
    "    'AMT_DRAWINGS_POS_CURRENT': ['max', 'sum'],\n",
    "    'AMT_INST_MIN_REGULARITY': ['max', 'mean'],\n",
    "    'AMT_PAYMENT_TOTAL_CURRENT': ['max','sum'],\n",
    "    'AMT_TOTAL_RECEIVABLE': ['max', 'mean'],\n",
    "    'CNT_DRAWINGS_ATM_CURRENT': ['max','sum'],\n",
    "    'CNT_DRAWINGS_CURRENT': ['max', 'mean', 'sum'],\n",
    "    'CNT_DRAWINGS_POS_CURRENT': ['mean'],\n",
    "    'SK_DPD': ['mean', 'max', 'sum'],\n",
    "    #  newly added columns\n",
    "    'BALANCE_LIMIT_RATIO':['min','max'],\n",
    "    'DRAWING_LIMIT_RATIO':['min', 'max'],\n",
    "    'CARD_IS_DPD':['mean', 'sum'],\n",
    "    'CARD_IS_DPD_UNDER_120':['mean', 'sum'],\n",
    "    'CARD_IS_DPD_OVER_120':['mean', 'sum']    \n",
    "}\n",
    "card_bal_m3_agg = card_bal_m3_grp.agg(card_bal_agg_dict)\n",
    "card_bal_m3_agg.columns = ['CARD_M3_'+('_').join(column).upper() for column in card_bal_m3_agg.columns]"
   ]
  },
  {
   "cell_type": "code",
   "execution_count": 117,
   "id": "rotary-sydney",
   "metadata": {},
   "outputs": [],
   "source": [
    "card_bal_agg = card_bal_agg.merge(card_bal_m3_agg, on = 'SK_ID_CURR', how='left')\n",
    "card_bal_agg = card_bal_agg.reset_index()"
   ]
  },
  {
   "cell_type": "code",
   "execution_count": 118,
   "id": "phantom-ecuador",
   "metadata": {},
   "outputs": [
    {
     "name": "stdout",
     "output_type": "stream",
     "text": [
      "pos_bal_agg shape:  (337252, 27) \n",
      "install_agg shape:  (339587, 59) \n",
      "card_bal_agg shape:  (103558, 69)\n"
     ]
    }
   ],
   "source": [
    "print('pos_bal_agg shape: ', pos_bal_agg.shape, '\\ninstall_agg shape: ', install_agg.shape, '\\ncard_bal_agg shape: ', card_bal_agg.shape)"
   ]
  },
  {
   "cell_type": "markdown",
   "id": "analyzed-klein",
   "metadata": {},
   "source": [
    "### Make functions for POS_CASh, INSTALL, CREDIT_CARD dataset"
   ]
  },
  {
   "cell_type": "code",
   "execution_count": 4,
   "id": "peaceful-northern",
   "metadata": {},
   "outputs": [],
   "source": [
    "def get_pos_bal_agg(pos_bal):\n",
    "    # 연체 일자(SK_DPD)가 0 보다 큰 경우, 0~ 100 사이, 100보다 큰 경우 조사 \n",
    "    cond_over_0 = pos_bal['SK_DPD'] > 0\n",
    "    cond_100 = (pos_bal['SK_DPD'] < 100) & (pos_bal['SK_DPD'] > 0)\n",
    "    cond_over_100 = (pos_bal['SK_DPD'] >= 100)\n",
    "\n",
    "    # 연체여부,  연체일수 0~ 120 사이 여부, 연체 일수 120보다 큰 여부 \n",
    "    pos_bal['POS_IS_DPD'] = pos_bal['SK_DPD'].apply(lambda x: 1 if x > 0 else 0)\n",
    "    pos_bal['POS_IS_DPD_UNDER_120'] = pos_bal['SK_DPD'].apply(lambda x:1 if (x > 0) & (x <120) else 0 )\n",
    "    pos_bal['POS_IS_DPD_OVER_120'] = pos_bal['SK_DPD'].apply(lambda x:1 if x >= 120 else 0)\n",
    "\n",
    "    # 기존 컬럼과 신규 컬럼으로 SK_ID_CURR 레벨로 신규 aggregation 컬럼 생성\n",
    "    pos_bal_grp = pos_bal.groupby('SK_ID_CURR')\n",
    "    pos_bal_agg_dict = {\n",
    "        'SK_ID_CURR':['count'], \n",
    "        'MONTHS_BALANCE':['min', 'mean', 'max'], \n",
    "        'SK_DPD':['min', 'max', 'mean', 'sum'],\n",
    "        'CNT_INSTALMENT':['min', 'max', 'mean', 'sum'],\n",
    "        'CNT_INSTALMENT_FUTURE':['min', 'max', 'mean', 'sum'],\n",
    "        # 추가 컬럼. \n",
    "        'POS_IS_DPD':['mean', 'sum'],\n",
    "        'POS_IS_DPD_UNDER_120':['mean', 'sum'],\n",
    "        'POS_IS_DPD_OVER_120':['mean', 'sum']\n",
    "    }\n",
    "\n",
    "    pos_bal_agg = pos_bal_grp.agg(pos_bal_agg_dict)\n",
    "    # 컬럼명 변경 \n",
    "    pos_bal_agg.columns = [('POS_')+('_').join(column).upper() for column in pos_bal_agg.columns.ravel()]\n",
    "    \n",
    "    # MONTHS_BALANCE가 최근(20개월 이하)인 데이터 세트 별도 가공. \n",
    "    cond_months = pos_bal['MONTHS_BALANCE'] > -20\n",
    "    pos_bal_m20_grp = pos_bal[cond_months].groupby('SK_ID_CURR')\n",
    "    pos_bal_m20_agg_dict = {\n",
    "        'SK_ID_CURR':['count'], \n",
    "        'MONTHS_BALANCE':['min', 'mean', 'max'], \n",
    "        'SK_DPD':['min', 'max', 'mean', 'sum'],\n",
    "        'CNT_INSTALMENT':['min', 'max', 'mean', 'sum'],\n",
    "        'CNT_INSTALMENT_FUTURE':['min', 'max', 'mean', 'sum'],\n",
    "        # 추가 컬럼. \n",
    "        'POS_IS_DPD':['mean', 'sum'],\n",
    "        'POS_IS_DPD_UNDER_120':['mean', 'sum'],\n",
    "        'POS_IS_DPD_OVER_120':['mean', 'sum']\n",
    "    }\n",
    "\n",
    "    pos_bal_m20_agg = pos_bal_m20_grp.agg(pos_bal_m20_agg_dict)\n",
    "    # 컬럼 변경 \n",
    "    pos_bal_m20_agg.columns = [('POS_M20_')+('_').join(column).upper() for column in pos_bal_m20_agg.columns.ravel()]\n",
    "    pos_bal_agg = pos_bal_agg.merge(pos_bal_m20_agg, on='SK_ID_CURR', how='left')\n",
    "    \n",
    "    # SK_ID_CURR을 reset_index()를 이용하여 컬럼으로 변환\n",
    "    pos_bal_agg = pos_bal_agg.reset_index()\n",
    "    \n",
    "    \n",
    "    return pos_bal_agg\n",
    "\n",
    "def get_install_agg(install):\n",
    "    # 예정 납부 금액 대비 실제 납부 금액 관련 데이터 가공. 예정 납부 일자 대비 실제 납부 일자 비교를 DPD 일자 생성  \n",
    "    install['AMT_DIFF'] = install['AMT_INSTALMENT'] - install['AMT_PAYMENT']\n",
    "    install['AMT_RATIO'] =  (install['AMT_PAYMENT'] +1)/ (install['AMT_INSTALMENT'] + 1)\n",
    "    install['SK_DPD'] = install['DAYS_ENTRY_PAYMENT'] - install['DAYS_INSTALMENT']\n",
    "\n",
    "    # 연체여부,  연체일수 30~ 120 사이 여부, 연체 일수 100보다 큰 여부 데이터 가공. \n",
    "    install['INS_IS_DPD'] = install['SK_DPD'].apply(lambda x: 1 if x > 0 else 0)\n",
    "    install['INS_IS_DPD_UNDER_120'] = install['SK_DPD'].apply(lambda x:1 if (x > 0) & (x <120) else 0 )\n",
    "    install['INS_IS_DPD_OVER_120'] = install['SK_DPD'].apply(lambda x:1 if x >= 120 else 0)\n",
    "\n",
    "    # 기존 컬럼과 신규 컬럼으로 SK_ID_CURR 레벨로 신규 aggregation 컬럼 생성. \n",
    "    install_grp = install.groupby('SK_ID_CURR')\n",
    "\n",
    "    install_agg_dict = {\n",
    "        'SK_ID_CURR':['count'],\n",
    "        'NUM_INSTALMENT_VERSION':['nunique'], \n",
    "        'DAYS_ENTRY_PAYMENT':['mean', 'max', 'sum'],\n",
    "        'DAYS_INSTALMENT':['mean', 'max', 'sum'],\n",
    "        'AMT_INSTALMENT':['mean', 'max', 'sum'],\n",
    "        'AMT_PAYMENT':['mean', 'max','sum'],\n",
    "        #  추가 컬럼\n",
    "        'AMT_DIFF':['mean','min', 'max','sum'],\n",
    "        'AMT_RATIO':['mean', 'max'],\n",
    "        'SK_DPD':['mean', 'min', 'max'],\n",
    "        'INS_IS_DPD':['mean', 'sum'],\n",
    "        'INS_IS_DPD_UNDER_120':['mean', 'sum'],\n",
    "        'INS_IS_DPD_OVER_120':['mean', 'sum']    \n",
    "    }\n",
    "\n",
    "    install_agg = install_grp.agg(install_agg_dict)\n",
    "    install_agg.columns = ['INS_'+('_').join(column).upper() for column in install_agg.columns.ravel()]\n",
    "\n",
    "    \n",
    "    # 실제 납부 일자(DAYS_ENTRY_PAYMENT)가 비교적 최근(1년 이내) 데이터만 별도로 가공\n",
    "    cond_day = install['DAYS_ENTRY_PAYMENT'] >= -365\n",
    "    install_d365_grp = install[cond_day].groupby('SK_ID_CURR')\n",
    "    install_d365_agg_dict = {\n",
    "        'SK_ID_CURR':['count'],\n",
    "        'NUM_INSTALMENT_VERSION':['nunique'], \n",
    "        'DAYS_ENTRY_PAYMENT':['mean', 'max', 'sum'],\n",
    "        'DAYS_INSTALMENT':['mean', 'max', 'sum'],\n",
    "        'AMT_INSTALMENT':['mean', 'max', 'sum'],\n",
    "        'AMT_PAYMENT':['mean', 'max','sum'],\n",
    "        #  추가 컬럼\n",
    "        'AMT_DIFF':['mean','min', 'max','sum'],\n",
    "        'AMT_RATIO':['mean', 'max'],\n",
    "        'SK_DPD':['mean', 'min', 'max'],\n",
    "        'INS_IS_DPD':['mean', 'sum'],\n",
    "        'INS_IS_DPD_UNDER_120':['mean', 'sum'],\n",
    "        'INS_IS_DPD_OVER_120':['mean', 'sum']    \n",
    "    }\n",
    "    \n",
    "    install_d365_agg = install_d365_grp.agg(install_d365_agg_dict)\n",
    "    install_d365_agg.columns = ['INS_D365_'+('_').join(column).upper() for column in install_d365_agg.columns.ravel()]\n",
    "    \n",
    "    install_agg = install_agg.merge(install_d365_agg, on='SK_ID_CURR', how='left')\n",
    "    install_agg = install_agg.reset_index()\n",
    "    \n",
    "    return install_agg\n",
    "\n",
    "def get_card_bal_agg(card_bal):\n",
    "    # 월별 카드 허용한도에 따른 잔고와 인출 금액 비율 \n",
    "    card_bal['BALANCE_LIMIT_RATIO'] = card_bal['AMT_BALANCE']/card_bal['AMT_CREDIT_LIMIT_ACTUAL']\n",
    "    card_bal['DRAWING_LIMIT_RATIO'] = card_bal['AMT_DRAWINGS_CURRENT'] / card_bal['AMT_CREDIT_LIMIT_ACTUAL']\n",
    "\n",
    "    # DPD에 따른 가공 컬럼 생성.\n",
    "    card_bal['CARD_IS_DPD'] = card_bal['SK_DPD'].apply(lambda x: 1 if x > 0 else 0)\n",
    "    card_bal['CARD_IS_DPD_UNDER_120'] = card_bal['SK_DPD'].apply(lambda x:1 if (x > 0) & (x <120) else 0 )\n",
    "    card_bal['CARD_IS_DPD_OVER_120'] = card_bal['SK_DPD'].apply(lambda x:1 if x >= 120 else 0)\n",
    "\n",
    "    # 기존 컬럼과 가공 컬럼으로 SK_ID_CURR 레벨로 aggregation 신규 컬럼 생성. \n",
    "    card_bal_grp = card_bal.groupby('SK_ID_CURR')\n",
    "    card_bal_agg_dict = {\n",
    "        'SK_ID_CURR':['count'],\n",
    "         #'MONTHS_BALANCE':['min', 'max', 'mean'],\n",
    "        'AMT_BALANCE':['max'],\n",
    "        'AMT_CREDIT_LIMIT_ACTUAL':['max'],\n",
    "        'AMT_DRAWINGS_ATM_CURRENT': ['max', 'sum'],\n",
    "        'AMT_DRAWINGS_CURRENT': ['max', 'sum'],\n",
    "        'AMT_DRAWINGS_POS_CURRENT': ['max', 'sum'],\n",
    "        'AMT_INST_MIN_REGULARITY': ['max', 'mean'],\n",
    "        'AMT_PAYMENT_TOTAL_CURRENT': ['max','sum'],\n",
    "        'AMT_TOTAL_RECEIVABLE': ['max', 'mean'],\n",
    "        'CNT_DRAWINGS_ATM_CURRENT': ['max','sum'],\n",
    "        'CNT_DRAWINGS_CURRENT': ['max', 'mean', 'sum'],\n",
    "        'CNT_DRAWINGS_POS_CURRENT': ['mean'],\n",
    "        'SK_DPD': ['mean', 'max', 'sum'],\n",
    "        #  추가 컬럼\n",
    "        'BALANCE_LIMIT_RATIO':['min','max'],\n",
    "        'DRAWING_LIMIT_RATIO':['min', 'max'],\n",
    "        'CARD_IS_DPD':['mean', 'sum'],\n",
    "        'CARD_IS_DPD_UNDER_120':['mean', 'sum'],\n",
    "        'CARD_IS_DPD_OVER_120':['mean', 'sum']    \n",
    "    }\n",
    "    card_bal_agg = card_bal_grp.agg(card_bal_agg_dict)\n",
    "    card_bal_agg.columns = ['CARD_'+('_').join(column).upper() for column in card_bal_agg.columns.ravel()]\n",
    "\n",
    "    card_bal_agg = card_bal_agg.reset_index()\n",
    "    \n",
    "    # MONTHS_BALANCE가 비교적 최근 데이터( 3개월 이하)만 별도로 가공.  \n",
    "    cond_month = card_bal.MONTHS_BALANCE >= -3\n",
    "    card_bal_m3_grp = card_bal[cond_month].groupby('SK_ID_CURR')\n",
    "    card_bal_m3_agg = card_bal_m3_grp.agg(card_bal_agg_dict)\n",
    "    card_bal_m3_agg.columns = ['CARD_M3_'+('_').join(column).upper() for column in card_bal_m3_agg.columns.ravel()]\n",
    "    \n",
    "    card_bal_agg = card_bal_agg.merge(card_bal_m3_agg, on='SK_ID_CURR', how='left')\n",
    "    card_bal_agg = card_bal_agg.reset_index()\n",
    "    \n",
    "    return card_bal_agg"
   ]
  },
  {
   "cell_type": "code",
   "execution_count": 124,
   "id": "small-deputy",
   "metadata": {},
   "outputs": [
    {
     "data": {
      "text/plain": [
       "5641025"
      ]
     },
     "execution_count": 124,
     "metadata": {},
     "output_type": "execute_result"
    }
   ],
   "source": [
    "del pos_bal_app, install_app, card_bal_app, pos_bal_agg, install_agg, card_bal_agg\n",
    "gc.collect()"
   ]
  },
  {
   "cell_type": "code",
   "execution_count": 5,
   "id": "durable-undergraduate",
   "metadata": {},
   "outputs": [
    {
     "name": "stderr",
     "output_type": "stream",
     "text": [
      "<ipython-input-4-7b8105a27919>:28: FutureWarning: Index.ravel returning ndarray is deprecated; in a future version this will return a view on self.\n",
      "  pos_bal_agg.columns = [('POS_')+('_').join(column).upper() for column in pos_bal_agg.columns.ravel()]\n",
      "<ipython-input-4-7b8105a27919>:47: FutureWarning: Index.ravel returning ndarray is deprecated; in a future version this will return a view on self.\n",
      "  pos_bal_m20_agg.columns = [('POS_M20')+('_').join(column).upper() for column in pos_bal_m20_agg.columns.ravel()]\n",
      "<ipython-input-4-7b8105a27919>:87: FutureWarning: Index.ravel returning ndarray is deprecated; in a future version this will return a view on self.\n",
      "  install_agg.columns = ['INS_'+('_').join(column).upper() for column in install_agg.columns.ravel()]\n",
      "<ipython-input-4-7b8105a27919>:110: FutureWarning: Index.ravel returning ndarray is deprecated; in a future version this will return a view on self.\n",
      "  install_d365_agg.columns = ['INS_D365_'+('_').join(column).upper() for column in install_d365_agg.columns.ravel()]\n",
      "<ipython-input-4-7b8105a27919>:152: FutureWarning: Index.ravel returning ndarray is deprecated; in a future version this will return a view on self.\n",
      "  card_bal_agg.columns = ['CARD_'+('_').join(column).upper() for column in card_bal_agg.columns.ravel()]\n"
     ]
    },
    {
     "name": "stdout",
     "output_type": "stream",
     "text": [
      "pos_bal_agg shape: (337252, 45) \n",
      "install_agg shape: (339587, 59) \n",
      "card_bal_agg shape: (103558, 70)\n"
     ]
    },
    {
     "name": "stderr",
     "output_type": "stream",
     "text": [
      "<ipython-input-4-7b8105a27919>:160: FutureWarning: Index.ravel returning ndarray is deprecated; in a future version this will return a view on self.\n",
      "  card_bal_m3_agg.columns = ['CARD_M3_'+('_').join(column).upper() for column in card_bal_m3_agg.columns.ravel()]\n"
     ]
    }
   ],
   "source": [
    "pos_bal_agg = get_pos_bal_agg(pos_bal)\n",
    "install_agg = get_install_agg(install)\n",
    "card_bal_agg = get_card_bal_agg(card_bal)\n",
    "\n",
    "print('pos_bal_agg shape:', pos_bal_agg.shape, '\\ninstall_agg shape:', install_agg.shape, '\\ncard_bal_agg shape:', card_bal_agg.shape)"
   ]
  },
  {
   "cell_type": "markdown",
   "id": "chemical-scroll",
   "metadata": {},
   "source": [
    "### Application, previous, bureau, bureau_bal dataset processing functions"
   ]
  },
  {
   "cell_type": "code",
   "execution_count": 6,
   "id": "otherwise-alloy",
   "metadata": {},
   "outputs": [],
   "source": [
    "from sklearn.model_selection import train_test_split\n",
    "from lightgbm import LGBMClassifier\n",
    "\n",
    "def get_apps_processed(apps):\n",
    "    \n",
    "    # EXT_SOURCE_X FEATURE 가공\n",
    "    apps['APPS_EXT_SOURCE_MEAN'] = apps[['EXT_SOURCE_1', 'EXT_SOURCE_2', 'EXT_SOURCE_3']].mean(axis=1)\n",
    "    apps['APPS_EXT_SOURCE_STD'] = apps[['EXT_SOURCE_1', 'EXT_SOURCE_2', 'EXT_SOURCE_3']].std(axis=1)\n",
    "    apps['APPS_EXT_SOURCE_STD'] = apps['APPS_EXT_SOURCE_STD'].fillna(apps['APPS_EXT_SOURCE_STD'].mean())\n",
    "    \n",
    "    # AMT_CREDIT 비율로 Feature 가공\n",
    "    apps['APPS_ANNUITY_CREDIT_RATIO'] = apps['AMT_ANNUITY']/apps['AMT_CREDIT']\n",
    "    apps['APPS_GOODS_CREDIT_RATIO'] = apps['AMT_GOODS_PRICE']/apps['AMT_CREDIT']\n",
    "    \n",
    "    # AMT_INCOME_TOTAL 비율로 Feature 가공\n",
    "    apps['APPS_ANNUITY_INCOME_RATIO'] = apps['AMT_ANNUITY']/apps['AMT_INCOME_TOTAL']\n",
    "    apps['APPS_CREDIT_INCOME_RATIO'] = apps['AMT_CREDIT']/apps['AMT_INCOME_TOTAL']\n",
    "    apps['APPS_GOODS_INCOME_RATIO'] = apps['AMT_GOODS_PRICE']/apps['AMT_INCOME_TOTAL']\n",
    "    apps['APPS_CNT_FAM_INCOME_RATIO'] = apps['AMT_INCOME_TOTAL']/apps['CNT_FAM_MEMBERS']\n",
    "    \n",
    "    # DAYS_BIRTH, DAYS_EMPLOYED 비율로 Feature 가공\n",
    "    apps['APPS_EMPLOYED_BIRTH_RATIO'] = apps['DAYS_EMPLOYED']/apps['DAYS_BIRTH']\n",
    "    apps['APPS_INCOME_EMPLOYED_RATIO'] = apps['AMT_INCOME_TOTAL']/apps['DAYS_EMPLOYED']\n",
    "    apps['APPS_INCOME_BIRTH_RATIO'] = apps['AMT_INCOME_TOTAL']/apps['DAYS_BIRTH']\n",
    "    apps['APPS_CAR_BIRTH_RATIO'] = apps['OWN_CAR_AGE'] / apps['DAYS_BIRTH']\n",
    "    apps['APPS_CAR_EMPLOYED_RATIO'] = apps['OWN_CAR_AGE'] / apps['DAYS_EMPLOYED']\n",
    "    \n",
    "    return apps\n",
    "\n",
    "def get_prev_processed(prev):\n",
    "    # 대출 신청 금액과 실제 대출액/대출 상품금액 차이 및 비율\n",
    "    prev['PREV_CREDIT_DIFF'] = prev['AMT_APPLICATION'] - prev['AMT_CREDIT']\n",
    "    prev['PREV_GOODS_DIFF'] = prev['AMT_APPLICATION'] - prev['AMT_GOODS_PRICE']\n",
    "    prev['PREV_CREDIT_APPL_RATIO'] = prev['AMT_CREDIT']/prev['AMT_APPLICATION']\n",
    "    # prev['PREV_ANNUITY_APPL_RATIO'] = prev['AMT_ANNUITY']/prev['AMT_APPLICATION']\n",
    "    prev['PREV_GOODS_APPL_RATIO'] = prev['AMT_GOODS_PRICE']/prev['AMT_APPLICATION']\n",
    "    \n",
    "    prev['DAYS_FIRST_DRAWING'].replace(365243, np.nan, inplace= True)\n",
    "    prev['DAYS_FIRST_DUE'].replace(365243, np.nan, inplace= True)\n",
    "    prev['DAYS_LAST_DUE_1ST_VERSION'].replace(365243, np.nan, inplace= True)\n",
    "    prev['DAYS_LAST_DUE'].replace(365243, np.nan, inplace= True)\n",
    "    prev['DAYS_TERMINATION'].replace(365243, np.nan, inplace= True)\n",
    "    # 첫번째 만기일과 마지막 만기일까지의 기간\n",
    "    prev['PREV_DAYS_LAST_DUE_DIFF'] = prev['DAYS_LAST_DUE_1ST_VERSION'] - prev['DAYS_LAST_DUE']\n",
    "    # 매월 납부 금액과 납부 횟수 곱해서 전체 납부 금액 구함. \n",
    "    all_pay = prev['AMT_ANNUITY'] * prev['CNT_PAYMENT']\n",
    "    # 전체 납부 금액 대비 AMT_CREDIT 비율을 구하고 여기에 다시 납부횟수로 나누어서 이자율 계산. \n",
    "    prev['PREV_INTERESTS_RATE'] = (all_pay/prev['AMT_CREDIT'] - 1)/prev['CNT_PAYMENT']\n",
    "        \n",
    "    return prev\n",
    "    \n",
    "    \n",
    "def get_prev_amt_agg(prev):\n",
    "    # 새롭게 생성된 대출 신청액 대비 다른 금액 차이 및 비율로 aggregation 수행. \n",
    "    agg_dict = {\n",
    "         # 기존 컬럼 aggregation. \n",
    "        'SK_ID_CURR':['count'],\n",
    "        'AMT_CREDIT':['mean', 'max', 'sum'],\n",
    "        'AMT_ANNUITY':['mean', 'max', 'sum'], \n",
    "        'AMT_APPLICATION':['mean', 'max', 'sum'],\n",
    "        'AMT_DOWN_PAYMENT':['mean', 'max', 'sum'],\n",
    "        'AMT_GOODS_PRICE':['mean', 'max', 'sum'],\n",
    "        'RATE_DOWN_PAYMENT': ['min', 'max', 'mean'],\n",
    "        'DAYS_DECISION': ['min', 'max', 'mean'],\n",
    "        'CNT_PAYMENT': ['mean', 'sum'],\n",
    "        # 가공 컬럼 aggregation\n",
    "        'PREV_CREDIT_DIFF':['mean', 'max', 'sum'], \n",
    "        'PREV_CREDIT_APPL_RATIO':['mean', 'max'],\n",
    "        'PREV_GOODS_DIFF':['mean', 'max', 'sum'],\n",
    "        'PREV_GOODS_APPL_RATIO':['mean', 'max'],\n",
    "        'PREV_DAYS_LAST_DUE_DIFF':['mean', 'max', 'sum'],\n",
    "        'PREV_INTERESTS_RATE':['mean', 'max']\n",
    "    }\n",
    "\n",
    "    prev_group = prev.groupby('SK_ID_CURR')\n",
    "    prev_amt_agg = prev_group.agg(agg_dict)\n",
    "\n",
    "    # multi index 컬럼을 '_'로 연결하여 컬럼명 변경\n",
    "    prev_amt_agg.columns = [\"PREV_\"+ \"_\".join(x).upper() for x in prev_amt_agg.columns.ravel()]\n",
    "    \n",
    "    return prev_amt_agg\n",
    "\n",
    "def get_prev_refused_appr_agg(prev):\n",
    "    # 원래 groupby 컬럼 + 세부 기준 컬럼으로 groupby 수행. 세분화된 레벨로 aggregation 수행 한 뒤에 unstack()으로 컬럼레벨로 변형. \n",
    "    prev_refused_appr_group = prev[prev['NAME_CONTRACT_STATUS'].isin(['Approved', 'Refused'])].groupby([ 'SK_ID_CURR', 'NAME_CONTRACT_STATUS'])\n",
    "    prev_refused_appr_agg = prev_refused_appr_group['SK_ID_CURR'].count().unstack()\n",
    "    # 컬럼명 변경. \n",
    "    prev_refused_appr_agg.columns = ['PREV_APPROVED_COUNT', 'PREV_REFUSED_COUNT' ]\n",
    "    # NaN값은 모두 0으로 변경. \n",
    "    prev_refused_appr_agg = prev_refused_appr_agg.fillna(0)\n",
    "    \n",
    "    return prev_refused_appr_agg\n",
    "\n",
    "def get_prev_agg(prev):\n",
    "    prev = get_prev_processed(prev)\n",
    "    prev_amt_agg = get_prev_amt_agg(prev)\n",
    "    prev_refused_appr_agg = get_prev_refused_appr_agg(prev)\n",
    "    \n",
    "    # prev_amt_agg와 조인. \n",
    "    prev_agg = prev_amt_agg.merge(prev_refused_appr_agg, on='SK_ID_CURR', how='left')\n",
    "    # SK_ID_CURR별 과거 대출건수 대비 APPROVED_COUNT 및 REFUSED_COUNT 비율 생성. \n",
    "    prev_agg['PREV_REFUSED_RATIO'] = prev_agg['PREV_REFUSED_COUNT']/prev_agg['PREV_SK_ID_CURR_COUNT']\n",
    "    prev_agg['PREV_APPROVED_RATIO'] = prev_agg['PREV_APPROVED_COUNT']/prev_agg['PREV_SK_ID_CURR_COUNT']\n",
    "    # 'PREV_REFUSED_COUNT', 'PREV_APPROVED_COUNT' 컬럼 drop \n",
    "    prev_agg = prev_agg.drop(['PREV_REFUSED_COUNT', 'PREV_APPROVED_COUNT'], axis=1)\n",
    "    \n",
    "    return prev_agg\n",
    "\n",
    "# bureau 채무 완료 날짜 및 대출 금액 대비 채무 금액 관련 컬럼 가공.\n",
    "def get_bureau_processed(bureau):\n",
    "    # 예정 채무 시작 및 완료일과 실제 채무 완료일간의 차이 및 날짜 비율 가공.  \n",
    "    bureau['BUREAU_ENDDATE_FACT_DIFF'] = bureau['DAYS_CREDIT_ENDDATE'] - bureau['DAYS_ENDDATE_FACT']\n",
    "    bureau['BUREAU_CREDIT_FACT_DIFF'] = bureau['DAYS_CREDIT'] - bureau['DAYS_ENDDATE_FACT']\n",
    "    bureau['BUREAU_CREDIT_ENDDATE_DIFF'] = bureau['DAYS_CREDIT'] - bureau['DAYS_CREDIT_ENDDATE']\n",
    "  \n",
    "    # 채무 금액 대비/대출 금액 비율 및 차이 가공\n",
    "    bureau['BUREAU_CREDIT_DEBT_RATIO']=bureau['AMT_CREDIT_SUM_DEBT']/bureau['AMT_CREDIT_SUM']\n",
    "    #bureau['BUREAU_CREDIT_DEBT_DIFF'] = bureau['AMT_CREDIT_SUM'] - bureau['AMT_CREDIT_SUM_DEBT']\n",
    "    bureau['BUREAU_CREDIT_DEBT_DIFF'] = bureau['AMT_CREDIT_SUM_DEBT'] - bureau['AMT_CREDIT_SUM']\n",
    "    \n",
    "    # 연체 여부 및 120일 이상 연체 여부 가공\n",
    "    bureau['BUREAU_IS_DPD'] = bureau['CREDIT_DAY_OVERDUE'].apply(lambda x: 1 if x > 0 else 0)\n",
    "    bureau['BUREAU_IS_DPD_OVER120'] = bureau['CREDIT_DAY_OVERDUE'].apply(lambda x: 1 if x >120 else 0)\n",
    "    \n",
    "    return bureau\n",
    "\n",
    "# bureau 주요 컬럼 및 앞에서 채무 및 대출금액 관련 컬럼들로 SK_ID_CURR 레벨의 aggregation 컬럼 생성. \n",
    "def get_bureau_day_amt_agg(bureau):\n",
    "        \n",
    "    bureau_agg_dict = {\n",
    "    'SK_ID_BUREAU':['count'],\n",
    "    'DAYS_CREDIT':['min', 'max', 'mean'],\n",
    "    'CREDIT_DAY_OVERDUE':['min', 'max', 'mean'],\n",
    "    'DAYS_CREDIT_ENDDATE':['min', 'max', 'mean'],\n",
    "    'DAYS_ENDDATE_FACT':['min', 'max', 'mean'],\n",
    "    'AMT_CREDIT_MAX_OVERDUE': ['max', 'mean'],\n",
    "    'AMT_CREDIT_SUM': ['max', 'mean', 'sum'],\n",
    "    'AMT_CREDIT_SUM_DEBT': ['max', 'mean', 'sum'],\n",
    "    'AMT_CREDIT_SUM_OVERDUE': ['max', 'mean', 'sum'],\n",
    "    'AMT_ANNUITY': ['max', 'mean', 'sum'],\n",
    "    # 추가 가공 컬럼\n",
    "    'BUREAU_ENDDATE_FACT_DIFF':['min', 'max', 'mean'],\n",
    "    'BUREAU_CREDIT_FACT_DIFF':['min', 'max', 'mean'],\n",
    "    'BUREAU_CREDIT_ENDDATE_DIFF':['min', 'max', 'mean'],\n",
    "    'BUREAU_CREDIT_DEBT_RATIO':['min', 'max', 'mean'],\n",
    "    'BUREAU_CREDIT_DEBT_DIFF':['min', 'max', 'mean'],\n",
    "    'BUREAU_IS_DPD':['mean', 'sum'],\n",
    "    'BUREAU_IS_DPD_OVER120':['mean', 'sum']\n",
    "    }\n",
    "\n",
    "    bureau_grp = bureau.groupby('SK_ID_CURR')\n",
    "    bureau_day_amt_agg = bureau_grp.agg(bureau_agg_dict)\n",
    "    bureau_day_amt_agg.columns = ['BUREAU_'+('_').join(column).upper() for column in bureau_day_amt_agg.columns.ravel()]\n",
    "    # 조인을 위해 SK_ID_CURR을 reset_index()로 컬럼화 \n",
    "    bureau_day_amt_agg = bureau_day_amt_agg.reset_index()\n",
    "    #print('bureau_day_amt_agg shape:', bureau_day_amt_agg.shape)\n",
    "    return bureau_day_amt_agg\n",
    "\n",
    "# Bureau의 CREDIT_ACTIVE='Active' 인 데이터만 filtering 후 주요 컬럼 및 앞에서 채무 및 대출금액 관련 컬럼들로 SK_ID_CURR 레벨의 aggregation 컬럼 생성\n",
    "def get_bureau_active_agg(bureau):\n",
    "    # CREDIT_ACTIVE='Active' 인 데이터만 filtering\n",
    "    cond_active = bureau['CREDIT_ACTIVE'] == 'Active'\n",
    "    bureau_active_grp = bureau[cond_active].groupby(['SK_ID_CURR'])\n",
    "    bureau_agg_dict = {\n",
    "        'SK_ID_BUREAU':['count'],\n",
    "        'DAYS_CREDIT':['min', 'max', 'mean'],\n",
    "        'CREDIT_DAY_OVERDUE':['min', 'max', 'mean'],\n",
    "        'DAYS_CREDIT_ENDDATE':['min', 'max', 'mean'],\n",
    "        'DAYS_ENDDATE_FACT':['min', 'max', 'mean'],\n",
    "        'AMT_CREDIT_MAX_OVERDUE': ['max', 'mean'],\n",
    "        'AMT_CREDIT_SUM': ['max', 'mean', 'sum'],\n",
    "        'AMT_CREDIT_SUM_DEBT': ['max', 'mean', 'sum'],\n",
    "        'AMT_CREDIT_SUM_OVERDUE': ['max', 'mean', 'sum'],\n",
    "        'AMT_ANNUITY': ['max', 'mean', 'sum'],\n",
    "        # 추가 가공 컬럼\n",
    "        'BUREAU_ENDDATE_FACT_DIFF':['min', 'max', 'mean'],\n",
    "        'BUREAU_CREDIT_FACT_DIFF':['min', 'max', 'mean'],\n",
    "        'BUREAU_CREDIT_ENDDATE_DIFF':['min', 'max', 'mean'],\n",
    "        'BUREAU_CREDIT_DEBT_RATIO':['min', 'max', 'mean'],\n",
    "        'BUREAU_CREDIT_DEBT_DIFF':['min', 'max', 'mean'],\n",
    "        'BUREAU_IS_DPD':['mean', 'sum'],\n",
    "        'BUREAU_IS_DPD_OVER120':['mean', 'sum']\n",
    "        }\n",
    "\n",
    "    bureau_active_agg = bureau_active_grp.agg(bureau_agg_dict)\n",
    "    bureau_active_agg.columns = ['BUREAU_ACT_'+('_').join(column).upper() for column in bureau_active_agg.columns.ravel()]\n",
    "    # 조인을 위해 SK_ID_CURR을 reset_index()로 컬럼화 \n",
    "    bureau_active_agg = bureau_active_agg.reset_index()\n",
    "    #print('bureau_active_agg shape:', bureau_active_agg.shape)\n",
    "    return bureau_active_agg\n",
    "\n",
    "# bureau_bal을 SK_ID_CURR 레벨로 건수와 MONTHS_BALANCE의 aggregation 가공 \n",
    "def get_bureau_bal_agg(bureau, bureau_bal):\n",
    "    # SK_ID_CURR레벨로 Group by하기 위해 bureau에서 SK_ID_CURR 컬럼을 가져오는 조인 수행. \n",
    "    bureau_bal = bureau_bal.merge(bureau[['SK_ID_CURR', 'SK_ID_BUREAU']], on='SK_ID_BUREAU', how='left')\n",
    "    \n",
    "    # STATUS에 따라 월별 연체 여부 및 120일 이상 연체 여부 속성 가공. \n",
    "    bureau_bal['BUREAU_BAL_IS_DPD'] = bureau_bal['STATUS'].apply(lambda x: 1 if x in['1','2','3','4','5']  else 0)\n",
    "    bureau_bal['BUREAU_BAL_IS_DPD_OVER120'] = bureau_bal['STATUS'].apply(lambda x: 1 if x =='5'  else 0)\n",
    "    bureau_bal_grp = bureau_bal.groupby('SK_ID_CURR')\n",
    "    # SK_ID_CURR 레벨로 건수와 MONTHS_BALANCE의 aggregation 가공 \n",
    "    bureau_bal_agg_dict = {\n",
    "        'SK_ID_CURR':['count'],\n",
    "        'MONTHS_BALANCE':['min', 'max', 'mean'],\n",
    "        'BUREAU_BAL_IS_DPD':['mean', 'sum'],\n",
    "        'BUREAU_BAL_IS_DPD_OVER120':['mean', 'sum']\n",
    "    }\n",
    "\n",
    "    bureau_bal_agg = bureau_bal_grp.agg(bureau_bal_agg_dict)\n",
    "    bureau_bal_agg.columns = [ 'BUREAU_BAL_'+('_').join(column).upper() for column in bureau_bal_agg.columns.ravel() ]\n",
    "    # 조인을 위해 SK_ID_CURR을 reset_index()로 컬럼화 \n",
    "    bureau_bal_agg = bureau_bal_agg.reset_index()\n",
    "    #print('bureau_bal_agg shape:', bureau_bal_agg.shape)\n",
    "    return bureau_bal_agg\n",
    "    \n",
    "# 가공된 bureau관련 aggregation 컬럼들을 모두 결합   \n",
    "def get_bureau_agg(bureau, bureau_bal):\n",
    "    \n",
    "    bureau = get_bureau_processed(bureau)\n",
    "    bureau_day_amt_agg = get_bureau_day_amt_agg(bureau)\n",
    "    bureau_active_agg = get_bureau_active_agg(bureau)\n",
    "    bureau_bal_agg = get_bureau_bal_agg(bureau, bureau_bal)\n",
    "    \n",
    "    # bureau_day_amt_agg와 bureau_active_agg 조인.  \n",
    "    bureau_agg = bureau_day_amt_agg.merge(bureau_active_agg, on='SK_ID_CURR', how='left')\n",
    "    # STATUS가 ACTIVE IS_DPD RATIO관련 비율 재가공. \n",
    "    #bureau_agg['BUREAU_IS_DPD_RATIO'] = bureau_agg['BUREAU_BUREAU_IS_DPD_SUM']/bureau_agg['BUREAU_SK_ID_BUREAU_COUNT']\n",
    "    #bureau_agg['BUREAU_IS_DPD_OVER120_RATIO'] = bureau_agg['BUREAU_BUREAU_IS_DPD_OVER120_SUM']/bureau_agg['BUREAU_SK_ID_BUREAU_COUNT']\n",
    "    bureau_agg['BUREAU_ACT_IS_DPD_RATIO'] = bureau_agg['BUREAU_ACT_BUREAU_IS_DPD_SUM']/bureau_agg['BUREAU_SK_ID_BUREAU_COUNT']\n",
    "    bureau_agg['BUREAU_ACT_IS_DPD_OVER120_RATIO'] = bureau_agg['BUREAU_ACT_BUREAU_IS_DPD_OVER120_SUM']/bureau_agg['BUREAU_SK_ID_BUREAU_COUNT']\n",
    "    \n",
    "    # bureau_agg와 bureau_bal_agg 조인. \n",
    "    bureau_agg = bureau_agg.merge(bureau_bal_agg, on='SK_ID_CURR', how='left')\n",
    "    #bureau_bal_agg['BUREAU_BAL_IS_DPD_RATIO'] = bureau_bal_agg['BUREAU_BAL_BUREAU_BAL_IS_DPD_SUM']/bureau_bal_agg['BUREAU_BAL_SK_ID_CURR_COUNT']\n",
    "    #bureau_bal_agg['BUREAU_BAL_IS_DPD_OVER120_RATIO'] = bureau_bal_agg['BUREAU_BAL_BUREAU_BAL_IS_DPD_OVER120_SUM']/bureau_bal_agg['BUREAU_BAL_SK_ID_CURR_COUNT']\n",
    "\n",
    "    #print('bureau_agg shape:', bureau_agg.shape)\n",
    "    \n",
    "    return bureau_agg\n",
    "\n",
    "def get_apps_all_with_prev_agg(apps, prev):\n",
    "    apps_all =  get_apps_processed(apps)\n",
    "    prev_agg = get_prev_agg(prev)\n",
    "    print('prev_agg shape:', prev_agg.shape)\n",
    "    print('apps_all before merge shape:', apps_all.shape)\n",
    "    apps_all = apps_all.merge(prev_agg, on='SK_ID_CURR', how='left')\n",
    "    print('apps_all after merge with prev_agg shape:', apps_all.shape)\n",
    "    \n",
    "    return apps_all\n",
    "\n",
    "def get_apps_all_encoded(apps_all):\n",
    "    object_columns = apps_all.dtypes[apps_all.dtypes == 'object'].index.tolist()\n",
    "    for column in object_columns:\n",
    "        apps_all[column] = pd.factorize(apps_all[column])[0]\n",
    "    \n",
    "    return apps_all\n",
    "\n",
    "def get_apps_all_train_test(apps_all):\n",
    "    apps_all_train = apps_all[~apps_all['TARGET'].isnull()]\n",
    "    apps_all_test = apps_all[apps_all['TARGET'].isnull()]\n",
    "\n",
    "    apps_all_test = apps_all_test.drop('TARGET', axis=1)\n",
    "    \n",
    "    return apps_all_train, apps_all_test\n",
    "    \n",
    "def train_apps_all(apps_all_train):\n",
    "    ftr_app = apps_all_train.drop(['SK_ID_CURR', 'TARGET'], axis=1)\n",
    "    target_app = apps_all_train['TARGET']\n",
    "\n",
    "    train_x, valid_x, train_y, valid_y = train_test_split(ftr_app, target_app, test_size=0.3, random_state=2020)\n",
    "    print('train shape:', train_x.shape, 'valid shape:', valid_x.shape)\n",
    "    clf = LGBMClassifier(\n",
    "                nthread=4,\n",
    "                n_estimators=2000,\n",
    "                learning_rate=0.02,\n",
    "                max_depth = 11,\n",
    "                num_leaves=58,\n",
    "                colsample_bytree=0.613,\n",
    "                subsample=0.708,\n",
    "                max_bin=407,\n",
    "                reg_alpha=3.564,\n",
    "                reg_lambda=4.930,\n",
    "                min_child_weight= 6,\n",
    "                min_child_samples=165,\n",
    "                silent=-1,\n",
    "                verbose=-1,\n",
    "                )\n",
    "   \n",
    "    clf.fit(train_x, train_y, eval_set=[(train_x, train_y), (valid_x, valid_y)], eval_metric= 'auc', verbose= 100, \n",
    "                early_stopping_rounds= 200)\n",
    "    \n",
    "    return clf"
   ]
  },
  {
   "cell_type": "markdown",
   "id": "former-opportunity",
   "metadata": {},
   "source": [
    "### Merge all data set "
   ]
  },
  {
   "cell_type": "code",
   "execution_count": 7,
   "id": "logical-format",
   "metadata": {},
   "outputs": [],
   "source": [
    "def get_apps_all_with_all_agg(apps, prev, bureau, bureau_bal, pos_bal, install, card_bal):\n",
    "    apps_all =  get_apps_processed(apps)\n",
    "    prev_agg = get_prev_agg(prev)\n",
    "    bureau_agg = get_bureau_agg(bureau, bureau_bal)\n",
    "    pos_bal_agg = get_pos_bal_agg(pos_bal)\n",
    "    install_agg = get_install_agg(install)\n",
    "    card_bal_agg = get_card_bal_agg(card_bal)\n",
    "    print('prev_agg shape:', prev_agg.shape, 'bureau_agg shape:', bureau_agg.shape )\n",
    "    print('pos_bal_agg shape:', pos_bal_agg.shape, 'install_agg shape:', install_agg.shape, 'card_bal_agg shape:', card_bal_agg.shape)\n",
    "    print('apps_all before merge shape:', apps_all.shape)\n",
    "    \n",
    "    # 생성된 prev_agg, bureau_agg, pos_bal_agg, install_agg, card_bal_agg를 apps와 조인하여 최종 학습/테스트 집합 생성. \n",
    "    apps_all = apps_all.merge(prev_agg, on='SK_ID_CURR', how='left')\n",
    "    apps_all = apps_all.merge(bureau_agg, on='SK_ID_CURR', how='left')\n",
    "    apps_all = apps_all.merge(pos_bal_agg, on='SK_ID_CURR', how='left')\n",
    "    apps_all = apps_all.merge(install_agg, on='SK_ID_CURR', how='left')\n",
    "    apps_all = apps_all.merge(card_bal_agg, on='SK_ID_CURR', how='left')\n",
    "    \n",
    "    print('apps_all after merge with all shape:', apps_all.shape)\n",
    "    \n",
    "    return apps_all"
   ]
  },
  {
   "cell_type": "markdown",
   "id": "metallic-winter",
   "metadata": {},
   "source": [
    "### Original dataset re-loading"
   ]
  },
  {
   "cell_type": "code",
   "execution_count": 15,
   "id": "exotic-steps",
   "metadata": {},
   "outputs": [],
   "source": [
    "def get_dataset():\n",
    "    data_path = 'D:\\workspace1\\Kaggle_Advanced_ML\\data'\n",
    "    app_train = pd.read_csv(os.path.join(data_path,'application_train.csv'))\n",
    "    app_test = pd.read_csv(os.path.join(data_path,'application_test.csv'))\n",
    "    apps = pd.concat([app_train, app_test])\n",
    "    \n",
    "    prev = pd.read_csv(os.path.join(data_path,'previous_application.csv'))\n",
    "    bureau = pd.read_csv(os.path.join(data_path,'bureau.csv'))\n",
    "    bureau_bal = pd.read_csv(os.path.join(data_path,'bureau_balance.csv'))\n",
    "    \n",
    "    pos_bal, install, card_bal = get_balance_data()\n",
    "        \n",
    "    return apps, prev, bureau, bureau_bal, pos_bal, install, card_bal"
   ]
  },
  {
   "cell_type": "code",
   "execution_count": 16,
   "id": "spare-communications",
   "metadata": {},
   "outputs": [],
   "source": [
    "apps, prev, bureau, bureau_bal, pos_bal, install, card_bal = get_dataset()"
   ]
  },
  {
   "cell_type": "code",
   "execution_count": 17,
   "id": "attached-germany",
   "metadata": {},
   "outputs": [
    {
     "name": "stderr",
     "output_type": "stream",
     "text": [
      "<ipython-input-6-a558006af0f6>:79: FutureWarning: Index.ravel returning ndarray is deprecated; in a future version this will return a view on self.\n",
      "  prev_amt_agg.columns = [\"PREV_\"+ \"_\".join(x).upper() for x in prev_amt_agg.columns.ravel()]\n",
      "<ipython-input-6-a558006af0f6>:153: FutureWarning: Index.ravel returning ndarray is deprecated; in a future version this will return a view on self.\n",
      "  bureau_day_amt_agg.columns = ['BUREAU_'+('_').join(column).upper() for column in bureau_day_amt_agg.columns.ravel()]\n",
      "<ipython-input-6-a558006af0f6>:186: FutureWarning: Index.ravel returning ndarray is deprecated; in a future version this will return a view on self.\n",
      "  bureau_active_agg.columns = ['BUREAU_ACT_'+('_').join(column).upper() for column in bureau_active_agg.columns.ravel()]\n",
      "<ipython-input-6-a558006af0f6>:210: FutureWarning: Index.ravel returning ndarray is deprecated; in a future version this will return a view on self.\n",
      "  bureau_bal_agg.columns = [ 'BUREAU_BAL_'+('_').join(column).upper() for column in bureau_bal_agg.columns.ravel() ]\n",
      "<ipython-input-4-7b8105a27919>:28: FutureWarning: Index.ravel returning ndarray is deprecated; in a future version this will return a view on self.\n",
      "  pos_bal_agg.columns = [('POS_')+('_').join(column).upper() for column in pos_bal_agg.columns.ravel()]\n",
      "<ipython-input-4-7b8105a27919>:47: FutureWarning: Index.ravel returning ndarray is deprecated; in a future version this will return a view on self.\n",
      "  pos_bal_m20_agg.columns = [('POS_M20')+('_').join(column).upper() for column in pos_bal_m20_agg.columns.ravel()]\n",
      "<ipython-input-4-7b8105a27919>:87: FutureWarning: Index.ravel returning ndarray is deprecated; in a future version this will return a view on self.\n",
      "  install_agg.columns = ['INS_'+('_').join(column).upper() for column in install_agg.columns.ravel()]\n",
      "<ipython-input-4-7b8105a27919>:110: FutureWarning: Index.ravel returning ndarray is deprecated; in a future version this will return a view on self.\n",
      "  install_d365_agg.columns = ['INS_D365_'+('_').join(column).upper() for column in install_d365_agg.columns.ravel()]\n",
      "<ipython-input-4-7b8105a27919>:152: FutureWarning: Index.ravel returning ndarray is deprecated; in a future version this will return a view on self.\n",
      "  card_bal_agg.columns = ['CARD_'+('_').join(column).upper() for column in card_bal_agg.columns.ravel()]\n",
      "<ipython-input-4-7b8105a27919>:160: FutureWarning: Index.ravel returning ndarray is deprecated; in a future version this will return a view on self.\n",
      "  card_bal_m3_agg.columns = ['CARD_M3_'+('_').join(column).upper() for column in card_bal_m3_agg.columns.ravel()]\n"
     ]
    },
    {
     "name": "stdout",
     "output_type": "stream",
     "text": [
      "prev_agg shape: (338857, 41) bureau_agg shape: (305811, 103)\n",
      "pos_bal_agg shape: (337252, 45) install_agg shape: (339587, 59) card_bal_agg shape: (103558, 70)\n",
      "apps_all before merge shape: (356255, 135)\n",
      "apps_all after merge with all shape: (356255, 449)\n",
      "train shape: (215257, 447) valid shape: (92254, 447)\n",
      "[LightGBM] [Warning] num_threads is set with n_jobs=-1, nthread=4 will be ignored. Current value: num_threads=-1\n",
      "Training until validation scores don't improve for 200 rounds\n",
      "[100]\ttraining's auc: 0.796231\ttraining's binary_logloss: 0.238694\tvalid_1's auc: 0.770151\tvalid_1's binary_logloss: 0.244955\n",
      "[200]\ttraining's auc: 0.820575\ttraining's binary_logloss: 0.227046\tvalid_1's auc: 0.782013\tvalid_1's binary_logloss: 0.239078\n",
      "[300]\ttraining's auc: 0.837659\ttraining's binary_logloss: 0.21943\tvalid_1's auc: 0.787648\tvalid_1's binary_logloss: 0.236764\n",
      "[400]\ttraining's auc: 0.851674\ttraining's binary_logloss: 0.213298\tvalid_1's auc: 0.790412\tvalid_1's binary_logloss: 0.235681\n",
      "[500]\ttraining's auc: 0.863994\ttraining's binary_logloss: 0.207912\tvalid_1's auc: 0.791821\tvalid_1's binary_logloss: 0.235077\n",
      "[600]\ttraining's auc: 0.875094\ttraining's binary_logloss: 0.203009\tvalid_1's auc: 0.7927\tvalid_1's binary_logloss: 0.234691\n",
      "[700]\ttraining's auc: 0.885022\ttraining's binary_logloss: 0.198543\tvalid_1's auc: 0.793321\tvalid_1's binary_logloss: 0.234468\n",
      "[800]\ttraining's auc: 0.893871\ttraining's binary_logloss: 0.194333\tvalid_1's auc: 0.793739\tvalid_1's binary_logloss: 0.234313\n",
      "[900]\ttraining's auc: 0.901966\ttraining's binary_logloss: 0.190404\tvalid_1's auc: 0.793951\tvalid_1's binary_logloss: 0.234219\n",
      "[1000]\ttraining's auc: 0.909364\ttraining's binary_logloss: 0.186606\tvalid_1's auc: 0.794034\tvalid_1's binary_logloss: 0.234179\n",
      "[1100]\ttraining's auc: 0.916235\ttraining's binary_logloss: 0.183005\tvalid_1's auc: 0.794044\tvalid_1's binary_logloss: 0.234156\n",
      "[1200]\ttraining's auc: 0.922479\ttraining's binary_logloss: 0.179521\tvalid_1's auc: 0.794205\tvalid_1's binary_logloss: 0.234131\n",
      "[1300]\ttraining's auc: 0.928416\ttraining's binary_logloss: 0.176097\tvalid_1's auc: 0.794176\tvalid_1's binary_logloss: 0.23416\n",
      "[1400]\ttraining's auc: 0.933725\ttraining's binary_logloss: 0.172851\tvalid_1's auc: 0.794139\tvalid_1's binary_logloss: 0.234176\n",
      "Early stopping, best iteration is:\n",
      "[1223]\ttraining's auc: 0.923878\ttraining's binary_logloss: 0.178723\tvalid_1's auc: 0.794241\tvalid_1's binary_logloss: 0.234121\n"
     ]
    }
   ],
   "source": [
    "# all data set processing\n",
    "apps_all = get_apps_all_with_all_agg(apps, prev, bureau, bureau_bal, pos_bal, install, card_bal)\n",
    "# category column label encoding\n",
    "apps_all = get_apps_all_encoded(apps_all)\n",
    "# train, testset split\n",
    "apps_all_train, apps_all_test = get_apps_all_train_test(apps_all)\n",
    "# training\n",
    "clf = train_apps_all(apps_all_train)"
   ]
  },
  {
   "cell_type": "code",
   "execution_count": 18,
   "id": "negative-airfare",
   "metadata": {},
   "outputs": [],
   "source": [
    "preds = clf.predict_proba(apps_all_test.drop(['SK_ID_CURR'], axis=1))[:, 1 ]\n",
    "apps_all_test['TARGET'] = preds\n",
    "apps_all_test[['SK_ID_CURR', 'TARGET']].to_csv('all_data_processed.csv', index=False)"
   ]
  },
  {
   "cell_type": "code",
   "execution_count": 19,
   "id": "central-congo",
   "metadata": {},
   "outputs": [],
   "source": [
    "apps_all_test.drop('TARGET', axis=1, inplace=True)"
   ]
  },
  {
   "cell_type": "code",
   "execution_count": 20,
   "id": "amended-virginia",
   "metadata": {},
   "outputs": [
    {
     "data": {
      "text/plain": [
       "<AxesSubplot:title={'center':'Feature importance'}, xlabel='Feature importance', ylabel='Features'>"
      ]
     },
     "execution_count": 20,
     "metadata": {},
     "output_type": "execute_result"
    },
    {
     "data": {
      "image/png": "[encoded data removed]",
      "text/plain": [
       "<Figure size 1152x2304 with 1 Axes>"
      ]
     },
     "metadata": {
      "needs_background": "light"
     },
     "output_type": "display_data"
    }
   ],
   "source": [
    "from lightgbm import plot_importance\n",
    "\n",
    "plot_importance(clf, figsize=(16, 32), max_num_features=100)"
   ]
  },
  {
   "cell_type": "code",
   "execution_count": null,
   "id": "aggressive-administration",
   "metadata": {},
   "outputs": [],
   "source": []
  }
 ],
 "metadata": {
  "kernelspec": {
   "display_name": "Python 3",
   "language": "python",
   "name": "python3"
  },
  "language_info": {
   "codemirror_mode": {
    "name": "ipython",
    "version": 3
   },
   "file_extension": ".py",
   "mimetype": "text/x-python",
   "name": "python",
   "nbconvert_exporter": "python",
   "pygments_lexer": "ipython3",
   "version": "3.9.2"
  }
 },
 "nbformat": 4,
 "nbformat_minor": 5
}
